{
  "nbformat": 4,
  "nbformat_minor": 0,
  "metadata": {
    "colab": {
      "provenance": []
    },
    "kernelspec": {
      "name": "ir",
      "display_name": "R"
    },
    "language_info": {
      "name": "R"
    }
  },
  "cells": [
    {
      "cell_type": "code",
      "execution_count": 85,
      "metadata": {
        "id": "Biof_L8UCy7H"
      },
      "outputs": [],
      "source": [
        "dataPath = \"./\"\n",
        "\n",
        "Brent <- read.table(paste(dataPath,'BRENT.csv',sep = '/'), header=TRUE,sep=';')\n",
        "Copper <- read.table(paste(dataPath,'COPPER.csv',sep = '/'), header=TRUE,sep=';')\n",
        "EurUsd <- read.table(paste(dataPath,'EURUSD.csv',sep = '/'), header=TRUE,sep=';')\n",
        "Gold <- read.table(paste(dataPath,'GOLD.csv',sep = '/'), header=TRUE,sep=';')\n",
        "Sber <- read.table(paste(dataPath,'SBER.csv',sep = '/'), header=TRUE,sep=';')\n",
        "Spx <- read.table(paste(dataPath,'SPX.csv',sep = '/'), header=TRUE,sep=';')\n",
        "UsdRub <- read.table(paste(dataPath,'USDRUB.csv',sep = '/'), header=TRUE,sep=';')"
      ]
    },
    {
      "cell_type": "code",
      "source": [
        "install.packages(\"xts\")\n",
        "library(xts)"
      ],
      "metadata": {
        "id": "5EPqMndM97iJ"
      },
      "execution_count": null,
      "outputs": []
    },
    {
      "cell_type": "code",
      "source": [
        "# Убираем дублирующиеся строки\n",
        "Brent <- Brent[!duplicated(Brent$X.DATE.), ]\n",
        "Copper <- Copper[!duplicated(Copper$X.DATE.), ]\n",
        "EurUsd <- EurUsd[!duplicated(EurUsd$X.DATE.), ]\n",
        "Gold <- Gold[!duplicated(Gold$X.DATE.), ]\n",
        "Sber <- Sber[!duplicated(Sber$X.DATE.), ]\n",
        "Spx <- Spx[!duplicated(Spx$X.DATE.), ]\n",
        "UsdRub <- UsdRub[!duplicated(UsdRub$X.DATE.), ]"
      ],
      "metadata": {
        "id": "F4q6fdamWiYa"
      },
      "execution_count": 86,
      "outputs": []
    },
    {
      "cell_type": "code",
      "source": [
        "# Убираем строки с пропусками\n",
        "Sber <- Sber[complete.cases(Sber), ]\n",
        "Brent <- Brent[complete.cases(Brent), ]\n",
        "Copper <- Copper[complete.cases(Copper), ]\n",
        "EurUsd <- EurUsd[complete.cases(EurUsd), ]\n",
        "Gold <- Gold[complete.cases(Gold), ]\n",
        "Spx <- Spx[complete.cases(Spx), ]\n",
        "UsdRub <- UsdRub[complete.cases(UsdRub), ]"
      ],
      "metadata": {
        "id": "APROyZ699P9c"
      },
      "execution_count": 87,
      "outputs": []
    },
    {
      "cell_type": "code",
      "source": [
        "names(Brent)[2] <- \"Brent\"\n",
        "names(Copper)[2] <- \"Copper\"\n",
        "names(EurUsd)[2] <- \"EurUsd\"\n",
        "names(Gold)[2] <- \"Gold\"\n",
        "names(Sber)[2] <- \"Sber\"\n",
        "names(Spx)[2] <- \"Spx\"\n",
        "names(UsdRub)[2] <- \"UsdRub\""
      ],
      "metadata": {
        "id": "oNOH9ikLYppG"
      },
      "execution_count": 88,
      "outputs": []
    },
    {
      "cell_type": "code",
      "source": [
        "Sber$X.DATE. <- as.Date(Sber$X.DATE.,\"%d.%m.%Y\")\n",
        "Brent$X.DATE. <- as.Date(Brent$X.DATE.,\"%d.%m.%Y\")\n",
        "Copper$X.DATE. <- as.Date(Copper$X.DATE.,\"%d.%m.%Y\")\n",
        "EurUsd$X.DATE. <- as.Date(EurUsd$X.DATE.,\"%d.%m.%Y\")\n",
        "Gold$X.DATE. <- as.Date(Gold$X.DATE.,\"%d.%m.%Y\")\n",
        "Spx$X.DATE. <- as.Date(Spx$X.DATE.,\"%d.%m.%Y\")\n",
        "UsdRub$X.DATE. <- as.Date(UsdRub$X.DATE.,\"%d.%m.%Y\")"
      ],
      "metadata": {
        "id": "0Bn77TF_-INa"
      },
      "execution_count": 67,
      "outputs": []
    },
    {
      "cell_type": "code",
      "source": [
        "# переходим к логарифмическим доходностям по каждому активу\n",
        "ratesSber <- cbind(Sber$X.DATE.[2:dim(Sber)[1]], diff(log(Sber$Sber)))\n",
        "colnames(ratesSber) <- c(\"Date\", \"Sber\")\n",
        "ratesSpx <- cbind(Spx$X.DATE.[2:dim(Spx)[1]], diff(log(Spx$Spx)))\n",
        "colnames(ratesSpx) <- c(\"Date\", \"Spx\")\n",
        "ratesBrent <- cbind(Brent$X.DATE.[2:dim(Brent)[1]], diff(log(Brent$Brent)))\n",
        "colnames(ratesBrent) <- c(\"Date\", \"Brent\")\n",
        "ratesGold <- cbind(Gold$X.DATE.[2:dim(Gold)[1]], diff(log(Gold$Gold)))\n",
        "colnames(ratesGold) <- c(\"Date\", \"Gold\")\n",
        "ratesCopper <- cbind(Copper$X.DATE.[2:dim(Copper)[1]], diff(log(Copper$Copper)))\n",
        "colnames(ratesCopper) <- c(\"Date\", \"Copper\")\n",
        "ratesEurUsd <- cbind(EurUsd$X.DATE.[2:dim(EurUsd)[1]], diff(log(EurUsd$EurUsd)))\n",
        "colnames(ratesEurUsd) <- c(\"Date\", \"EurUsd\")\n",
        "ratesUsdRub <- cbind(UsdRub$X.DATE.[2:dim(UsdRub)[1]], diff(log(UsdRub$UsdRub)))\n",
        "colnames(ratesUsdRub) <- c(\"Date\", \"UsdRub\")\n",
        "\n"
      ],
      "metadata": {
        "id": "mAzA4P2LATJN"
      },
      "execution_count": 112,
      "outputs": []
    },
    {
      "cell_type": "code",
      "source": [
        "# сведем доходности в одну таблицу, и упорядочим по датам\n",
        "Stocks <- merge(ratesSber, ratesSpx, by=\"Date\",all.x=TRUE, all.y = TRUE)\n",
        "Stocks <- merge(Stocks, ratesGold, by=\"Date\",all.x=TRUE, all.y = TRUE)\n",
        "Stocks <- merge(Stocks, ratesBrent, by=\"Date\",all.x=TRUE, all.y = TRUE)\n",
        "Stocks <- merge(Stocks, ratesCopper, by=\"Date\",all.x=TRUE, all.y = TRUE)\n",
        "Stocks <- merge(Stocks, ratesEurUsd, by=\"Date\",all.x=TRUE, all.y = TRUE)\n",
        "Stocks <- merge(Stocks, ratesUsdRub, by=\"Date\",all.x=TRUE, all.y = TRUE)"
      ],
      "metadata": {
        "id": "abJUY7NfYzjh"
      },
      "execution_count": 113,
      "outputs": []
    },
    {
      "cell_type": "code",
      "source": [
        "Stocks$Date <- as.Date(Stocks$Date,\"%d.%m.%Y\")"
      ],
      "metadata": {
        "id": "uZxAgAArFdKw"
      },
      "execution_count": 114,
      "outputs": []
    },
    {
      "cell_type": "code",
      "source": [
        "Stocks <- Stocks[order(Stocks$Date),]"
      ],
      "metadata": {
        "id": "qDYvUq1jFP36"
      },
      "execution_count": 115,
      "outputs": []
    },
    {
      "cell_type": "code",
      "source": [
        "Stocks <- Stocks[complete.cases(Stocks), ]"
      ],
      "metadata": {
        "id": "xf7naGTrWMdK"
      },
      "execution_count": 116,
      "outputs": []
    },
    {
      "cell_type": "code",
      "source": [
        "rownames(Stocks) <- 1:nrow(Stocks)"
      ],
      "metadata": {
        "id": "PCJr7nWG4dQN"
      },
      "execution_count": 117,
      "outputs": []
    },
    {
      "cell_type": "code",
      "source": [
        "Stocks$Sber <- as.double(Stocks$Sber)\n",
        "Stocks$Spx <- as.double(Stocks$Spx)\n",
        "Stocks$Gold <- as.double(Stocks$Gold)\n",
        "Stocks$Brent <- as.double(Stocks$Brent)\n",
        "Stocks$Copper <- as.double(Stocks$Copper)\n",
        "Stocks$EurUsd <- as.double(Stocks$EurUsd)\n",
        "Stocks$UsdRub <- as.double(Stocks$UsdRub)"
      ],
      "metadata": {
        "id": "iHdBb3WbHTUQ"
      },
      "execution_count": 121,
      "outputs": []
    },
    {
      "cell_type": "markdown",
      "source": [
        "В ячейке выше произведен переход к логарифмическим доходностям и индексация по датам"
      ],
      "metadata": {
        "id": "f3VT90vPjrQa"
      }
    },
    {
      "cell_type": "code",
      "source": [
        "head(Stocks)"
      ],
      "metadata": {
        "colab": {
          "base_uri": "https://localhost:8080/",
          "height": 410
        },
        "id": "HOLvstLNhjkZ",
        "outputId": "16d170bc-52c2-4381-b314-8bd53e2f57cd"
      },
      "execution_count": 123,
      "outputs": [
        {
          "output_type": "display_data",
          "data": {
            "text/html": [
              "<table class=\"dataframe\">\n",
              "<caption>A data.frame: 6 × 8</caption>\n",
              "<thead>\n",
              "\t<tr><th></th><th scope=col>Date</th><th scope=col>Sber</th><th scope=col>Spx</th><th scope=col>Gold</th><th scope=col>Brent</th><th scope=col>Copper</th><th scope=col>EurUsd</th><th scope=col>UsdRub</th></tr>\n",
              "\t<tr><th></th><th scope=col>&lt;date&gt;</th><th scope=col>&lt;dbl&gt;</th><th scope=col>&lt;dbl&gt;</th><th scope=col>&lt;dbl&gt;</th><th scope=col>&lt;dbl&gt;</th><th scope=col>&lt;dbl&gt;</th><th scope=col>&lt;dbl&gt;</th><th scope=col>&lt;dbl&gt;</th></tr>\n",
              "</thead>\n",
              "<tbody>\n",
              "\t<tr><th scope=row>1</th><td>2022-03-25</td><td>-0.03541118</td><td> 0.005053402</td><td>-0.0019902535</td><td> 0.014946957</td><td>-0.007329153</td><td>-0.002391965</td><td>-0.009393765</td></tr>\n",
              "\t<tr><th scope=row>2</th><td>2022-03-29</td><td> 0.02971413</td><td> 0.012182027</td><td>-0.0009875517</td><td> 0.018219504</td><td> 0.016632620</td><td> 0.009111804</td><td>-0.119089372</td></tr>\n",
              "\t<tr><th scope=row>3</th><td>2022-03-30</td><td> 0.04427955</td><td>-0.006313610</td><td> 0.0033226071</td><td> 0.022227186</td><td>-0.002735404</td><td> 0.006201988</td><td>-0.018162773</td></tr>\n",
              "\t<tr><th scope=row>4</th><td>2022-03-31</td><td> 0.06535078</td><td>-0.015776327</td><td> 0.0070755621</td><td>-0.049398457</td><td>-0.002003692</td><td>-0.007871400</td><td>-0.021335344</td></tr>\n",
              "\t<tr><th scope=row>5</th><td>2022-04-01</td><td> 0.07253590</td><td> 0.003404486</td><td>-0.0075421372</td><td>-0.008555185</td><td>-0.006566429</td><td>-0.002305659</td><td> 0.039498116</td></tr>\n",
              "\t<tr><th scope=row>6</th><td>2022-04-04</td><td> 0.07179369</td><td> 0.008058323</td><td> 0.0048252876</td><td> 0.041988013</td><td> 0.017915960</td><td>-0.006366990</td><td>-0.006060625</td></tr>\n",
              "</tbody>\n",
              "</table>\n"
            ],
            "text/markdown": "\nA data.frame: 6 × 8\n\n| <!--/--> | Date &lt;date&gt; | Sber &lt;dbl&gt; | Spx &lt;dbl&gt; | Gold &lt;dbl&gt; | Brent &lt;dbl&gt; | Copper &lt;dbl&gt; | EurUsd &lt;dbl&gt; | UsdRub &lt;dbl&gt; |\n|---|---|---|---|---|---|---|---|---|\n| 1 | 2022-03-25 | -0.03541118 |  0.005053402 | -0.0019902535 |  0.014946957 | -0.007329153 | -0.002391965 | -0.009393765 |\n| 2 | 2022-03-29 |  0.02971413 |  0.012182027 | -0.0009875517 |  0.018219504 |  0.016632620 |  0.009111804 | -0.119089372 |\n| 3 | 2022-03-30 |  0.04427955 | -0.006313610 |  0.0033226071 |  0.022227186 | -0.002735404 |  0.006201988 | -0.018162773 |\n| 4 | 2022-03-31 |  0.06535078 | -0.015776327 |  0.0070755621 | -0.049398457 | -0.002003692 | -0.007871400 | -0.021335344 |\n| 5 | 2022-04-01 |  0.07253590 |  0.003404486 | -0.0075421372 | -0.008555185 | -0.006566429 | -0.002305659 |  0.039498116 |\n| 6 | 2022-04-04 |  0.07179369 |  0.008058323 |  0.0048252876 |  0.041988013 |  0.017915960 | -0.006366990 | -0.006060625 |\n\n",
            "text/latex": "A data.frame: 6 × 8\n\\begin{tabular}{r|llllllll}\n  & Date & Sber & Spx & Gold & Brent & Copper & EurUsd & UsdRub\\\\\n  & <date> & <dbl> & <dbl> & <dbl> & <dbl> & <dbl> & <dbl> & <dbl>\\\\\n\\hline\n\t1 & 2022-03-25 & -0.03541118 &  0.005053402 & -0.0019902535 &  0.014946957 & -0.007329153 & -0.002391965 & -0.009393765\\\\\n\t2 & 2022-03-29 &  0.02971413 &  0.012182027 & -0.0009875517 &  0.018219504 &  0.016632620 &  0.009111804 & -0.119089372\\\\\n\t3 & 2022-03-30 &  0.04427955 & -0.006313610 &  0.0033226071 &  0.022227186 & -0.002735404 &  0.006201988 & -0.018162773\\\\\n\t4 & 2022-03-31 &  0.06535078 & -0.015776327 &  0.0070755621 & -0.049398457 & -0.002003692 & -0.007871400 & -0.021335344\\\\\n\t5 & 2022-04-01 &  0.07253590 &  0.003404486 & -0.0075421372 & -0.008555185 & -0.006566429 & -0.002305659 &  0.039498116\\\\\n\t6 & 2022-04-04 &  0.07179369 &  0.008058323 &  0.0048252876 &  0.041988013 &  0.017915960 & -0.006366990 & -0.006060625\\\\\n\\end{tabular}\n",
            "text/plain": [
              "  Date       Sber        Spx          Gold          Brent        Copper      \n",
              "1 2022-03-25 -0.03541118  0.005053402 -0.0019902535  0.014946957 -0.007329153\n",
              "2 2022-03-29  0.02971413  0.012182027 -0.0009875517  0.018219504  0.016632620\n",
              "3 2022-03-30  0.04427955 -0.006313610  0.0033226071  0.022227186 -0.002735404\n",
              "4 2022-03-31  0.06535078 -0.015776327  0.0070755621 -0.049398457 -0.002003692\n",
              "5 2022-04-01  0.07253590  0.003404486 -0.0075421372 -0.008555185 -0.006566429\n",
              "6 2022-04-04  0.07179369  0.008058323  0.0048252876  0.041988013  0.017915960\n",
              "  EurUsd       UsdRub      \n",
              "1 -0.002391965 -0.009393765\n",
              "2  0.009111804 -0.119089372\n",
              "3  0.006201988 -0.018162773\n",
              "4 -0.007871400 -0.021335344\n",
              "5 -0.002305659  0.039498116\n",
              "6 -0.006366990 -0.006060625"
            ]
          },
          "metadata": {}
        }
      ]
    },
    {
      "cell_type": "code",
      "source": [
        "regr <- lm(Stocks$Sber ~ Stocks$Spx + Stocks$Gold + Stocks$Brent + Stocks$Copper + Stocks$EurUsd + Stocks$UsdRub, data=Stocks)\n",
        "summary(regr)"
      ],
      "metadata": {
        "colab": {
          "base_uri": "https://localhost:8080/",
          "height": 415
        },
        "id": "rVOmr5a0gVbg",
        "outputId": "b19ee8df-7381-411b-d8d9-92c51424f4bf"
      },
      "execution_count": 127,
      "outputs": [
        {
          "output_type": "display_data",
          "data": {
            "text/plain": [
              "\n",
              "Call:\n",
              "lm(formula = Stocks$Sber ~ Stocks$Spx + Stocks$Gold + Stocks$Brent + \n",
              "    Stocks$Copper + Stocks$EurUsd + Stocks$UsdRub, data = Stocks)\n",
              "\n",
              "Residuals:\n",
              "      Min        1Q    Median        3Q       Max \n",
              "-0.105280 -0.008725 -0.000613  0.008423  0.097450 \n",
              "\n",
              "Coefficients:\n",
              "               Estimate Std. Error t value Pr(>|t|)\n",
              "(Intercept)    0.001434   0.001007   1.424    0.155\n",
              "Stocks$Spx     0.074580   0.096824   0.770    0.442\n",
              "Stocks$Gold    0.008281   0.135335   0.061    0.951\n",
              "Stocks$Brent   0.040236   0.051121   0.787    0.432\n",
              "Stocks$Copper  0.029573   0.093690   0.316    0.752\n",
              "Stocks$EurUsd  0.235231   0.236369   0.995    0.320\n",
              "Stocks$UsdRub -0.006884   0.051752  -0.133    0.894\n",
              "\n",
              "Residual standard error: 0.02178 on 465 degrees of freedom\n",
              "Multiple R-squared:  0.01281,\tAdjusted R-squared:  6.875e-05 \n",
              "F-statistic: 1.005 on 6 and 465 DF,  p-value: 0.421\n"
            ]
          },
          "metadata": {}
        }
      ]
    }
  ]
}