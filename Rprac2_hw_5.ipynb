{
  "nbformat": 4,
  "nbformat_minor": 0,
  "metadata": {
    "colab": {
      "provenance": []
    },
    "kernelspec": {
      "name": "ir",
      "display_name": "R"
    },
    "language_info": {
      "name": "R"
    }
  },
  "cells": [
    {
      "cell_type": "code",
      "source": [
        "library(mAr)"
      ],
      "metadata": {
        "id": "PzNPF6ICK8qQ"
      },
      "execution_count": null,
      "outputs": []
    },
    {
      "cell_type": "markdown",
      "source": [
        "\n",
        "\n",
        "\n",
        "\n",
        "\n",
        "```\n",
        "\n",
        "# Вариант 16"
      ],
      "metadata": {
        "id": "EqDvBygxJbGF"
      }
    },
    {
      "cell_type": "code",
      "source": [
        "data <- read.table('var_16.csv',sep=',',header = TRUE)\n",
        "head(data)"
      ],
      "metadata": {
        "colab": {
          "base_uri": "https://localhost:8080/",
          "height": 286
        },
        "id": "Kndh5BeSJNN3",
        "outputId": "7c35127f-520c-4a66-f254-65b9abf7f893"
      },
      "execution_count": 1,
      "outputs": [
        {
          "output_type": "display_data",
          "data": {
            "text/html": [
              "<table class=\"dataframe\">\n",
              "<caption>A data.frame: 6 × 2</caption>\n",
              "<thead>\n",
              "\t<tr><th></th><th scope=col>x</th><th scope=col>y</th></tr>\n",
              "\t<tr><th></th><th scope=col>&lt;dbl&gt;</th><th scope=col>&lt;dbl&gt;</th></tr>\n",
              "</thead>\n",
              "<tbody>\n",
              "\t<tr><th scope=row>1</th><td> 0.38193849</td><td>-0.2844566</td></tr>\n",
              "\t<tr><th scope=row>2</th><td> 1.94287509</td><td> 0.2393766</td></tr>\n",
              "\t<tr><th scope=row>3</th><td>-0.06318463</td><td> 0.7389477</td></tr>\n",
              "\t<tr><th scope=row>4</th><td> 1.11237166</td><td>-1.3010627</td></tr>\n",
              "\t<tr><th scope=row>5</th><td> 1.23837445</td><td>-1.7251592</td></tr>\n",
              "\t<tr><th scope=row>6</th><td>-0.10638129</td><td>-0.9677873</td></tr>\n",
              "</tbody>\n",
              "</table>\n"
            ],
            "text/markdown": "\nA data.frame: 6 × 2\n\n| <!--/--> | x &lt;dbl&gt; | y &lt;dbl&gt; |\n|---|---|---|\n| 1 |  0.38193849 | -0.2844566 |\n| 2 |  1.94287509 |  0.2393766 |\n| 3 | -0.06318463 |  0.7389477 |\n| 4 |  1.11237166 | -1.3010627 |\n| 5 |  1.23837445 | -1.7251592 |\n| 6 | -0.10638129 | -0.9677873 |\n\n",
            "text/latex": "A data.frame: 6 × 2\n\\begin{tabular}{r|ll}\n  & x & y\\\\\n  & <dbl> & <dbl>\\\\\n\\hline\n\t1 &  0.38193849 & -0.2844566\\\\\n\t2 &  1.94287509 &  0.2393766\\\\\n\t3 & -0.06318463 &  0.7389477\\\\\n\t4 &  1.11237166 & -1.3010627\\\\\n\t5 &  1.23837445 & -1.7251592\\\\\n\t6 & -0.10638129 & -0.9677873\\\\\n\\end{tabular}\n",
            "text/plain": [
              "  x           y         \n",
              "1  0.38193849 -0.2844566\n",
              "2  1.94287509  0.2393766\n",
              "3 -0.06318463  0.7389477\n",
              "4  1.11237166 -1.3010627\n",
              "5  1.23837445 -1.7251592\n",
              "6 -0.10638129 -0.9677873"
            ]
          },
          "metadata": {}
        }
      ]
    },
    {
      "cell_type": "code",
      "source": [
        "# забиваем матрицы из нашего варианта\n",
        "Phi1 <- c(0.4,0.4,0.2)\n",
        "Phi1 <- rbind(Phi1,c(0.4,0.4,0.3))\n",
        "Phi1 <- rbind(Phi1,c(0.1,0.3,0.2))\n",
        "Phi2 <- c(-0.4,0.3,0.2)\n",
        "Phi2 <- rbind(Phi2,c(0.2,0.3,0.2))\n",
        "Phi2 <- rbind(Phi2,c(0.3,-0.2,0.2))\n",
        "# дальше везде одинаково\n",
        "Phi <- cbind(Phi1,Phi2)\n",
        "I <- diag(1,3,3)\n",
        "Zero <- diag(0,3,3)\n",
        "IZ <- cbind(I,Zero)\n",
        "F <- rbind(Phi,IZ)\n",
        "F"
      ],
      "metadata": {
        "colab": {
          "base_uri": "https://localhost:8080/",
          "height": 222
        },
        "id": "U8agomWTM1OY",
        "outputId": "7c497d42-de35-41b8-a1ff-b7fc147db723"
      },
      "execution_count": 2,
      "outputs": [
        {
          "output_type": "display_data",
          "data": {
            "text/html": [
              "<table class=\"dataframe\">\n",
              "<caption>A matrix: 6 × 6 of type dbl</caption>\n",
              "<tbody>\n",
              "\t<tr><th scope=row>Phi1</th><td>0.4</td><td>0.4</td><td>0.2</td><td>-0.4</td><td> 0.3</td><td>0.2</td></tr>\n",
              "\t<tr><th scope=row></th><td>0.4</td><td>0.4</td><td>0.3</td><td> 0.2</td><td> 0.3</td><td>0.2</td></tr>\n",
              "\t<tr><th scope=row></th><td>0.1</td><td>0.3</td><td>0.2</td><td> 0.3</td><td>-0.2</td><td>0.2</td></tr>\n",
              "\t<tr><th scope=row></th><td>1.0</td><td>0.0</td><td>0.0</td><td> 0.0</td><td> 0.0</td><td>0.0</td></tr>\n",
              "\t<tr><th scope=row></th><td>0.0</td><td>1.0</td><td>0.0</td><td> 0.0</td><td> 0.0</td><td>0.0</td></tr>\n",
              "\t<tr><th scope=row></th><td>0.0</td><td>0.0</td><td>1.0</td><td> 0.0</td><td> 0.0</td><td>0.0</td></tr>\n",
              "</tbody>\n",
              "</table>\n"
            ],
            "text/markdown": "\nA matrix: 6 × 6 of type dbl\n\n| Phi1 | 0.4 | 0.4 | 0.2 | -0.4 |  0.3 | 0.2 |\n| <!----> | 0.4 | 0.4 | 0.3 |  0.2 |  0.3 | 0.2 |\n| <!----> | 0.1 | 0.3 | 0.2 |  0.3 | -0.2 | 0.2 |\n| <!----> | 1.0 | 0.0 | 0.0 |  0.0 |  0.0 | 0.0 |\n| <!----> | 0.0 | 1.0 | 0.0 |  0.0 |  0.0 | 0.0 |\n| <!----> | 0.0 | 0.0 | 1.0 |  0.0 |  0.0 | 0.0 |\n\n",
            "text/latex": "A matrix: 6 × 6 of type dbl\n\\begin{tabular}{r|llllll}\n\tPhi1 & 0.4 & 0.4 & 0.2 & -0.4 &  0.3 & 0.2\\\\\n\t & 0.4 & 0.4 & 0.3 &  0.2 &  0.3 & 0.2\\\\\n\t & 0.1 & 0.3 & 0.2 &  0.3 & -0.2 & 0.2\\\\\n\t & 1.0 & 0.0 & 0.0 &  0.0 &  0.0 & 0.0\\\\\n\t & 0.0 & 1.0 & 0.0 &  0.0 &  0.0 & 0.0\\\\\n\t & 0.0 & 0.0 & 1.0 &  0.0 &  0.0 & 0.0\\\\\n\\end{tabular}\n",
            "text/plain": [
              "     [,1] [,2] [,3] [,4] [,5] [,6]\n",
              "Phi1 0.4  0.4  0.2  -0.4  0.3 0.2 \n",
              "     0.4  0.4  0.3   0.2  0.3 0.2 \n",
              "     0.1  0.3  0.2   0.3 -0.2 0.2 \n",
              "     1.0  0.0  0.0   0.0  0.0 0.0 \n",
              "     0.0  1.0  0.0   0.0  0.0 0.0 \n",
              "     0.0  0.0  1.0   0.0  0.0 0.0 "
            ]
          },
          "metadata": {}
        }
      ]
    },
    {
      "cell_type": "code",
      "source": [
        "eval <- eigen(F,only.values= TRUE)\n",
        "eigen_val <- Mod(eval$values)"
      ],
      "metadata": {
        "id": "n1BGNuzQN-GO"
      },
      "execution_count": 3,
      "outputs": []
    },
    {
      "cell_type": "code",
      "source": [
        "barplot(eigen_val,col = \"blue\",main = \" Abs value of eigen values\")\n",
        "abline(h=1,col = \"black\")"
      ],
      "metadata": {
        "colab": {
          "base_uri": "https://localhost:8080/",
          "height": 437
        },
        "id": "wg5b4KgoRlya",
        "outputId": "bcccaeb7-de13-4487-81cb-c732349e7fce"
      },
      "execution_count": 4,
      "outputs": [
        {
          "output_type": "display_data",
          "data": {
            "text/plain": [
              "Plot with title “ Abs value of eigen values”"
            ],
            "image/png": "[encoded data removed]"
          },
          "metadata": {
            "image/png": {
              "width": 420,
              "height": 420
            }
          }
        }
      ]
    },
    {
      "cell_type": "markdown",
      "source": [
        "Есть собственное значение > 1 следовательно ряд не стационарный\n",
        "\n",
        "(Все собственные значения < 1 => ряд стационарный.)"
      ],
      "metadata": {
        "id": "6hyYaFkMUkDS"
      }
    },
    {
      "cell_type": "code",
      "source": [
        "ccf(data$x,data$y,lwd = 5, main = \"Cross-correlation of x and y\",col = \"blue\")"
      ],
      "metadata": {
        "colab": {
          "base_uri": "https://localhost:8080/",
          "height": 437
        },
        "id": "tAGKDOMUSjeK",
        "outputId": "b49b9e6d-abd0-49af-be83-36d1fd7eee0e"
      },
      "execution_count": 5,
      "outputs": [
        {
          "output_type": "display_data",
          "data": {
            "text/plain": [
              "Plot with title “Cross-correlation of x and y”"
            ],
            "image/png": "[encoded data removed]"
          },
          "metadata": {
            "image/png": {
              "width": 420,
              "height": 420
            }
          }
        }
      ]
    },
    {
      "cell_type": "markdown",
      "source": [
        "Задержка 7. Видимо, если она положительная, то впереди y."
      ],
      "metadata": {
        "id": "quHK6msCU_CQ"
      }
    },
    {
      "cell_type": "code",
      "source": [
        "res <- list(variant  = 16,\n",
        "           eigen_values = eigen_val,\n",
        "           stationarity = 'No',\n",
        "           delay        = -12,\n",
        "           ahead        = 'x'\n",
        ")\n",
        "saveRDS(res,'result.rds')"
      ],
      "metadata": {
        "id": "vJvxQn2vKcX0"
      },
      "execution_count": 6,
      "outputs": []
    }
  ]
}