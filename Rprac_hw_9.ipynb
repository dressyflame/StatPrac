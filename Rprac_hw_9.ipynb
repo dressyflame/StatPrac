{
  "nbformat": 4,
  "nbformat_minor": 0,
  "metadata": {
    "colab": {
      "provenance": []
    },
    "kernelspec": {
      "name": "ir",
      "display_name": "R"
    },
    "language_info": {
      "name": "R"
    }
  },
  "cells": [
    {
      "cell_type": "code",
      "execution_count": 1,
      "metadata": {
        "id": "MmovnZSl8jVX"
      },
      "outputs": [],
      "source": [
        "Sample <- read.table(\"var_16.csv\",header = TRUE,sep =\",\")"
      ]
    },
    {
      "cell_type": "code",
      "source": [
        "Sample <- data.frame(Output=Sample$Output, Treatment=as.factor(Sample$Treatment))"
      ],
      "metadata": {
        "id": "8WAM_2R_9TYE"
      },
      "execution_count": 2,
      "outputs": []
    },
    {
      "cell_type": "code",
      "source": [
        "plot(Output~Treatment, data=Sample)"
      ],
      "metadata": {
        "colab": {
          "base_uri": "https://localhost:8080/",
          "height": 437
        },
        "id": "SCMB87Kb9jt_",
        "outputId": "584c05a3-2f3f-444d-96bc-fea44a741e4f"
      },
      "execution_count": 4,
      "outputs": [
        {
          "output_type": "display_data",
          "data": {
            "text/plain": [
              "plot without title"
            ],
            "image/png": "[encoded data removed]"
          },
          "metadata": {
            "image/png": {
              "width": 420,
              "height": 420
            }
          }
        }
      ]
    },
    {
      "cell_type": "code",
      "source": [
        "g <- lm(Output~Treatment, data=Sample)\n",
        "anova(g)"
      ],
      "metadata": {
        "colab": {
          "base_uri": "https://localhost:8080/",
          "height": 161
        },
        "id": "4XvbbsiW9tJ6",
        "outputId": "3791313c-8065-4c9c-d3a8-f33950b207c2"
      },
      "execution_count": 6,
      "outputs": [
        {
          "output_type": "display_data",
          "data": {
            "text/html": [
              "<table class=\"dataframe\">\n",
              "<caption>A anova: 2 × 5</caption>\n",
              "<thead>\n",
              "\t<tr><th></th><th scope=col>Df</th><th scope=col>Sum Sq</th><th scope=col>Mean Sq</th><th scope=col>F value</th><th scope=col>Pr(&gt;F)</th></tr>\n",
              "\t<tr><th></th><th scope=col>&lt;int&gt;</th><th scope=col>&lt;dbl&gt;</th><th scope=col>&lt;dbl&gt;</th><th scope=col>&lt;dbl&gt;</th><th scope=col>&lt;dbl&gt;</th></tr>\n",
              "</thead>\n",
              "<tbody>\n",
              "\t<tr><th scope=row>Treatment</th><td>  2</td><td>141.9885</td><td>70.994267</td><td>38.48061</td><td>3.63179e-14</td></tr>\n",
              "\t<tr><th scope=row>Residuals</th><td>147</td><td>271.2056</td><td> 1.844936</td><td>      NA</td><td>         NA</td></tr>\n",
              "</tbody>\n",
              "</table>\n"
            ],
            "text/markdown": "\nA anova: 2 × 5\n\n| <!--/--> | Df &lt;int&gt; | Sum Sq &lt;dbl&gt; | Mean Sq &lt;dbl&gt; | F value &lt;dbl&gt; | Pr(&gt;F) &lt;dbl&gt; |\n|---|---|---|---|---|---|\n| Treatment |   2 | 141.9885 | 70.994267 | 38.48061 | 3.63179e-14 |\n| Residuals | 147 | 271.2056 |  1.844936 |       NA |          NA |\n\n",
            "text/latex": "A anova: 2 × 5\n\\begin{tabular}{r|lllll}\n  & Df & Sum Sq & Mean Sq & F value & Pr(>F)\\\\\n  & <int> & <dbl> & <dbl> & <dbl> & <dbl>\\\\\n\\hline\n\tTreatment &   2 & 141.9885 & 70.994267 & 38.48061 & 3.63179e-14\\\\\n\tResiduals & 147 & 271.2056 &  1.844936 &       NA &          NA\\\\\n\\end{tabular}\n",
            "text/plain": [
              "          Df  Sum Sq   Mean Sq   F value  Pr(>F)     \n",
              "Treatment   2 141.9885 70.994267 38.48061 3.63179e-14\n",
              "Residuals 147 271.2056  1.844936       NA          NA"
            ]
          },
          "metadata": {}
        }
      ]
    },
    {
      "cell_type": "code",
      "source": [
        "# Внутрегрупповая сумма квадратов.\n",
        "(anovag_Sum_Sq_2 <- anova(g)$\"Sum Sq\"[2])"
      ],
      "metadata": {
        "colab": {
          "base_uri": "https://localhost:8080/",
          "height": 34
        },
        "id": "6zj1kQ7n-Fpp",
        "outputId": "94cba4b4-3719-4f14-827b-6c35464760c1"
      },
      "execution_count": 7,
      "outputs": [
        {
          "output_type": "display_data",
          "data": {
            "text/html": [
              "271.205590328496"
            ],
            "text/markdown": "271.205590328496",
            "text/latex": "271.205590328496",
            "text/plain": [
              "[1] 271.2056"
            ]
          },
          "metadata": {}
        }
      ]
    },
    {
      "cell_type": "code",
      "source": [
        "# Межгрупповая сумма квадратов.\n",
        "(anovag_Sum_Sq_1 <- anova(g)$\"Sum Sq\"[1])"
      ],
      "metadata": {
        "colab": {
          "base_uri": "https://localhost:8080/",
          "height": 34
        },
        "id": "AUfQhm-U-G8i",
        "outputId": "81a272b5-0ffc-4e8a-b5eb-2b98b3fe88ac"
      },
      "execution_count": 8,
      "outputs": [
        {
          "output_type": "display_data",
          "data": {
            "text/html": [
              "141.988534294016"
            ],
            "text/markdown": "141.988534294016",
            "text/latex": "141.988534294016",
            "text/plain": [
              "[1] 141.9885"
            ]
          },
          "metadata": {}
        }
      ]
    },
    {
      "cell_type": "code",
      "source": [
        "# Гипотеза о равенстве групповых средних.\n",
        "(anovag_PValue<- anova(g)$\"Pr(>F)\"[1])"
      ],
      "metadata": {
        "colab": {
          "base_uri": "https://localhost:8080/",
          "height": 34
        },
        "id": "58A-QkSL-MjY",
        "outputId": "8650f9f3-d750-4286-befc-7355f4cb5f86"
      },
      "execution_count": 9,
      "outputs": [
        {
          "output_type": "display_data",
          "data": {
            "text/html": [
              "3.63179009900112e-14"
            ],
            "text/markdown": "3.63179009900112e-14",
            "text/latex": "3.63179009900112e-14",
            "text/plain": [
              "[1] 3.63179e-14"
            ]
          },
          "metadata": {}
        }
      ]
    },
    {
      "cell_type": "code",
      "source": [
        "gi <- lm(Output ~ Treatment - 1, data=Sample)\n",
        "anova(gi)"
      ],
      "metadata": {
        "colab": {
          "base_uri": "https://localhost:8080/",
          "height": 161
        },
        "id": "OnmfyzX_-QXQ",
        "outputId": "f1b9c70f-3399-48a6-b833-2d2e51d9f3fa"
      },
      "execution_count": 11,
      "outputs": [
        {
          "output_type": "display_data",
          "data": {
            "text/html": [
              "<table class=\"dataframe\">\n",
              "<caption>A anova: 2 × 5</caption>\n",
              "<thead>\n",
              "\t<tr><th></th><th scope=col>Df</th><th scope=col>Sum Sq</th><th scope=col>Mean Sq</th><th scope=col>F value</th><th scope=col>Pr(&gt;F)</th></tr>\n",
              "\t<tr><th></th><th scope=col>&lt;int&gt;</th><th scope=col>&lt;dbl&gt;</th><th scope=col>&lt;dbl&gt;</th><th scope=col>&lt;dbl&gt;</th><th scope=col>&lt;dbl&gt;</th></tr>\n",
              "</thead>\n",
              "<tbody>\n",
              "\t<tr><th scope=row>Treatment</th><td>  3</td><td>259.3189</td><td>86.439624</td><td>46.85237</td><td>2.612089e-21</td></tr>\n",
              "\t<tr><th scope=row>Residuals</th><td>147</td><td>271.2056</td><td> 1.844936</td><td>      NA</td><td>          NA</td></tr>\n",
              "</tbody>\n",
              "</table>\n"
            ],
            "text/markdown": "\nA anova: 2 × 5\n\n| <!--/--> | Df &lt;int&gt; | Sum Sq &lt;dbl&gt; | Mean Sq &lt;dbl&gt; | F value &lt;dbl&gt; | Pr(&gt;F) &lt;dbl&gt; |\n|---|---|---|---|---|---|\n| Treatment |   3 | 259.3189 | 86.439624 | 46.85237 | 2.612089e-21 |\n| Residuals | 147 | 271.2056 |  1.844936 |       NA |           NA |\n\n",
            "text/latex": "A anova: 2 × 5\n\\begin{tabular}{r|lllll}\n  & Df & Sum Sq & Mean Sq & F value & Pr(>F)\\\\\n  & <int> & <dbl> & <dbl> & <dbl> & <dbl>\\\\\n\\hline\n\tTreatment &   3 & 259.3189 & 86.439624 & 46.85237 & 2.612089e-21\\\\\n\tResiduals & 147 & 271.2056 &  1.844936 &       NA &           NA\\\\\n\\end{tabular}\n",
            "text/plain": [
              "          Df  Sum Sq   Mean Sq   F value  Pr(>F)      \n",
              "Treatment   3 259.3189 86.439624 46.85237 2.612089e-21\n",
              "Residuals 147 271.2056  1.844936       NA           NA"
            ]
          },
          "metadata": {}
        }
      ]
    },
    {
      "cell_type": "code",
      "source": [
        "# Сумма квадратов для предиктора для проверки гипотезы H0: “все групповые средние равны нулю”.\n",
        "(anovamgi_Sum_Sq_1 <- anova(gi)$\"Sum Sq\"[1])"
      ],
      "metadata": {
        "colab": {
          "base_uri": "https://localhost:8080/",
          "height": 34
        },
        "id": "evl0zYXc-d6p",
        "outputId": "6c70d202-7448-4f54-a33c-8671e4abfcfd"
      },
      "execution_count": 12,
      "outputs": [
        {
          "output_type": "display_data",
          "data": {
            "text/html": [
              "259.31887214255"
            ],
            "text/markdown": "259.31887214255",
            "text/latex": "259.31887214255",
            "text/plain": [
              "[1] 259.3189"
            ]
          },
          "metadata": {}
        }
      ]
    },
    {
      "cell_type": "code",
      "source": [
        "# Сумма квадратов остатков для проверки этой же гипотезы H0: “все групповый средние равны нулю”.\n",
        "(anovagi_Sum_Sq_2<- anova(gi)$\"Sum Sq\"[2])"
      ],
      "metadata": {
        "colab": {
          "base_uri": "https://localhost:8080/",
          "height": 34
        },
        "id": "HeNZ_v0Z-ptN",
        "outputId": "a40b2794-aa77-4716-fd5a-5e344e87dd28"
      },
      "execution_count": 13,
      "outputs": [
        {
          "output_type": "display_data",
          "data": {
            "text/html": [
              "271.205590328496"
            ],
            "text/markdown": "271.205590328496",
            "text/latex": "271.205590328496",
            "text/plain": [
              "[1] 271.2056"
            ]
          },
          "metadata": {}
        }
      ]
    },
    {
      "cell_type": "code",
      "source": [
        "# Гипотеза о равенстве всех групповых средних нулю.\n",
        "(anovagi_PValue <- anova(gi)$\"Pr(>F)\"[1])"
      ],
      "metadata": {
        "colab": {
          "base_uri": "https://localhost:8080/",
          "height": 34
        },
        "id": "l3pISy5x-vWe",
        "outputId": "8699c774-816d-4235-c5df-aa0603686ebf"
      },
      "execution_count": 14,
      "outputs": [
        {
          "output_type": "display_data",
          "data": {
            "text/html": [
              "2.61208872774849e-21"
            ],
            "text/markdown": "2.61208872774849e-21",
            "text/latex": "2.61208872774849e-21",
            "text/plain": [
              "[1] 2.612089e-21"
            ]
          },
          "metadata": {}
        }
      ]
    }
  ]
}