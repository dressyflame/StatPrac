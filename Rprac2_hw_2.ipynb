{
 "cells": [
  {
   "cell_type": "code",
   "execution_count": 5,
   "metadata": {
    "id": "wC-AL82LqV5p"
   },
   "outputs": [
    {
     "ename": "NameError",
     "evalue": "name 'pip' is not defined",
     "output_type": "error",
     "traceback": [
      "\u001b[1;31m---------------------------------------------------------------------------\u001b[0m",
      "\u001b[1;31mNameError\u001b[0m                                 Traceback (most recent call last)",
      "Cell \u001b[1;32mIn[5], line 1\u001b[0m\n\u001b[1;32m----> 1\u001b[0m \u001b[43mpip\u001b[49m\u001b[38;5;241m.\u001b[39minstall(rpy)\n\u001b[0;32m      2\u001b[0m \u001b[38;5;66;03m# чтобы работал и python, и R\u001b[39;00m\n\u001b[0;32m      3\u001b[0m get_ipython()\u001b[38;5;241m.\u001b[39mrun_line_magic(\u001b[38;5;124m'\u001b[39m\u001b[38;5;124mload_ext\u001b[39m\u001b[38;5;124m'\u001b[39m, \u001b[38;5;124m'\u001b[39m\u001b[38;5;124mrpy2.ipython\u001b[39m\u001b[38;5;124m'\u001b[39m)\n",
      "\u001b[1;31mNameError\u001b[0m: name 'pip' is not defined"
     ]
    }
   ],
   "source": [
    "# чтобы работал и python, и R\n",
    "%load_ext rpy2.ipython"
   ]
  },
  {
   "cell_type": "markdown",
   "metadata": {
    "id": "3xlLE4X1qx3M"
   },
   "source": [
    "# Вариант 0"
   ]
  },
  {
   "cell_type": "code",
   "execution_count": 1,
   "metadata": {
    "id": "QWqy5N9mrrID"
   },
   "outputs": [],
   "source": [
    "\n",
    "dat <- read.csv(\"var_0.csv\")"
   ]
  },
  {
   "cell_type": "code",
   "execution_count": 2,
   "metadata": {
    "colab": {
     "base_uri": "https://localhost:8080/"
    },
    "id": "Dr3V43octlRe",
    "outputId": "d10b9dc7-1be9-49eb-e6ce-bfc3e981a85a"
   },
   "outputs": [
    {
     "name": "stderr",
     "output_type": "stream",
     "text": [
      "Warning message:\n",
      "\"unable to access index for repository https://cran.r-project.org/src/contrib:\n",
      "  не могу открыть URL 'https://cran.r-project.org/src/contrib/PACKAGES'\"Warning message:\n",
      "\"package 'TSA' is not available (for R version 3.6.1)\"Warning message:\n",
      "\"unable to access index for repository https://cran.r-project.org/bin/windows/contrib/3.6:\n",
      "  не могу открыть URL 'https://cran.r-project.org/bin/windows/contrib/3.6/PACKAGES'\""
     ]
    },
    {
     "ename": "ERROR",
     "evalue": "Error in library(TSA): there is no package called 'TSA'\n",
     "output_type": "error",
     "traceback": [
      "Error in library(TSA): there is no package called 'TSA'\nTraceback:\n",
      "1. library(TSA)"
     ]
    }
   ],
   "source": [
    "\n",
    "install.packages(\"TSA\")\n",
    "library(TSA)"
   ]
  },
  {
   "cell_type": "code",
   "execution_count": 3,
   "metadata": {
    "colab": {
     "base_uri": "https://localhost:8080/",
     "height": 497
    },
    "id": "-wB3-4wwt7EJ",
    "outputId": "ab4cd89c-81ea-4060-997d-7341c124d2ce"
   },
   "outputs": [
    {
     "data": {
      "image/png": "[encoded data removed]",
      "text/plain": [
       "Plot with title \"x\""
      ]
     },
     "metadata": {},
     "output_type": "display_data"
    }
   ],
   "source": [
    "\n",
    "acf(dat)"
   ]
  },
  {
   "cell_type": "code",
   "execution_count": 4,
   "metadata": {
    "colab": {
     "base_uri": "https://localhost:8080/",
     "height": 497
    },
    "id": "wuNCBGEGu1UA",
    "outputId": "9f18395b-c88d-477c-c433-f83c4b70c397"
   },
   "outputs": [
    {
     "data": {
      "image/png": "[encoded data removed]",
      "text/plain": [
       "Plot with title \"Series  dat\""
      ]
     },
     "metadata": {},
     "output_type": "display_data"
    }
   ],
   "source": [
    "\n",
    "pacf(dat)"
   ]
  },
  {
   "cell_type": "markdown",
   "metadata": {
    "id": "kNuR0u85vEff"
   },
   "source": [
    "MA, порядок 2"
   ]
  },
  {
   "cell_type": "code",
   "execution_count": 5,
   "metadata": {
    "colab": {
     "base_uri": "https://localhost:8080/"
    },
    "id": "fFJUVEdlv02g",
    "outputId": "66c4268d-e04c-4254-efc9-3e18d44574c9"
   },
   "outputs": [
    {
     "data": {
      "text/html": [
       "857.801261339139"
      ],
      "text/latex": [
       "857.801261339139"
      ],
      "text/markdown": [
       "857.801261339139"
      ],
      "text/plain": [
       "[1] 857.8013"
      ]
     },
     "metadata": {},
     "output_type": "display_data"
    }
   ],
   "source": [
    "\n",
    "# метод максимального правдоподобия + статистика Акаике\n",
    "ml = arima(dat, order = c(0,0,2),method=\"ML\")\n",
    "ml$aic"
   ]
  },
  {
   "cell_type": "code",
   "execution_count": 6,
   "metadata": {
    "colab": {
     "base_uri": "https://localhost:8080/"
    },
    "id": "prqWk5q-VIl3",
    "outputId": "48725e7f-a82a-48a3-a895-97b3ae971419"
   },
   "outputs": [
    {
     "data": {
      "text/html": [
       "<dl class=dl-horizontal>\n",
       "\t<dt>ma1</dt>\n",
       "\t\t<dd>0.49706457876575</dd>\n",
       "\t<dt>ma2</dt>\n",
       "\t\t<dd>-0.319288958282494</dd>\n",
       "\t<dt>intercept</dt>\n",
       "\t\t<dd>0.0401444999290231</dd>\n",
       "</dl>\n"
      ],
      "text/latex": [
       "\\begin{description*}\n",
       "\\item[ma1] 0.49706457876575\n",
       "\\item[ma2] -0.319288958282494\n",
       "\\item[intercept] 0.0401444999290231\n",
       "\\end{description*}\n"
      ],
      "text/markdown": [
       "ma1\n",
       ":   0.49706457876575ma2\n",
       ":   -0.319288958282494intercept\n",
       ":   0.0401444999290231\n",
       "\n"
      ],
      "text/plain": [
       "       ma1        ma2  intercept \n",
       " 0.4970646 -0.3192890  0.0401445 "
      ]
     },
     "metadata": {},
     "output_type": "display_data"
    }
   ],
   "source": [
    "# параметры (в ответ нужно ЭТИ)\n",
    "ml$coef"
   ]
  },
  {
   "cell_type": "code",
   "execution_count": 7,
   "metadata": {
    "colab": {
     "base_uri": "https://localhost:8080/"
    },
    "id": "O7HkNe16SgFs",
    "outputId": "08c10240-2bda-417a-c25c-b4d73e2543d3"
   },
   "outputs": [
    {
     "data": {
      "text/html": [
       "<dl class=dl-horizontal>\n",
       "\t<dt>ma1</dt>\n",
       "\t\t<dd>0.489513655377254</dd>\n",
       "\t<dt>ma2</dt>\n",
       "\t\t<dd>-0.318798941884038</dd>\n",
       "\t<dt>intercept</dt>\n",
       "\t\t<dd>0.0362852532894022</dd>\n",
       "</dl>\n"
      ],
      "text/latex": [
       "\\begin{description*}\n",
       "\\item[ma1] 0.489513655377254\n",
       "\\item[ma2] -0.318798941884038\n",
       "\\item[intercept] 0.0362852532894022\n",
       "\\end{description*}\n"
      ],
      "text/markdown": [
       "ma1\n",
       ":   0.489513655377254ma2\n",
       ":   -0.318798941884038intercept\n",
       ":   0.0362852532894022\n",
       "\n"
      ],
      "text/plain": [
       "        ma1         ma2   intercept \n",
       " 0.48951366 -0.31879894  0.03628525 "
      ]
     },
     "metadata": {},
     "output_type": "display_data"
    }
   ],
   "source": [
    "\n",
    "# параметры\n",
    "ma2 = arima(dat, order = c(0,0,2),method=\"CSS\")\n",
    "ma2$coef"
   ]
  },
  {
   "cell_type": "code",
   "execution_count": 8,
   "metadata": {
    "colab": {
     "base_uri": "https://localhost:8080/"
    },
    "id": "n6KcbQdnTJEJ",
    "outputId": "935cc75f-3275-47ba-890b-024c95a29bb6"
   },
   "outputs": [
    {
     "data": {
      "text/plain": [
       "\n",
       "\tBox-Ljung test\n",
       "\n",
       "data:  res\n",
       "X-squared = 3.1493, df = 4, p-value = 0.5332\n"
      ]
     },
     "metadata": {},
     "output_type": "display_data"
    }
   ],
   "source": [
    "# тест Льюнг-Бокса\n",
    "res <- ma2$residuals\n",
    "Box.test(res, lag = 6, type = \"Ljung-Box\", fitdf = 2)"
   ]
  },
  {
   "cell_type": "code",
   "execution_count": 10,
   "metadata": {},
   "outputs": [
    {
     "data": {
      "text/html": [
       "6"
      ],
      "text/latex": [
       "6"
      ],
      "text/markdown": [
       "6"
      ],
      "text/plain": [
       "[1] 6"
      ]
     },
     "metadata": {},
     "output_type": "display_data"
    }
   ],
   "source": [
    "ar1 <- ar(dat, method=\"yule-walker\")\n",
    "ar1 <- ar(dat, method=\"yw\")\n",
    "ar1$order"
   ]
  },
  {
   "cell_type": "code",
   "execution_count": 9,
   "metadata": {
    "colab": {
     "base_uri": "https://localhost:8080/",
     "height": 497
    },
    "id": "j88R0w0aT8nQ",
    "outputId": "ec069b73-7293-4734-9919-2cd15fe3c2e9"
   },
   "outputs": [
    {
     "data": {
      "image/png": "[encoded data removed]",
      "text/plain": [
       "Plot with title \"Normal Q-Q Plot\""
      ]
     },
     "metadata": {},
     "output_type": "display_data"
    }
   ],
   "source": [
    "qqnorm(res)\n",
    "qqline(res)"
   ]
  },
  {
   "cell_type": "markdown",
   "metadata": {
    "id": "I74JqN9cVogW"
   },
   "source": [
    "# Вариант 16"
   ]
  },
  {
   "cell_type": "code",
   "execution_count": 11,
   "metadata": {
    "id": "L8tzg-YpWFGm"
   },
   "outputs": [],
   "source": [
    "dat <- read.csv(\"var_16.csv\")"
   ]
  },
  {
   "cell_type": "code",
   "execution_count": 12,
   "metadata": {
    "colab": {
     "base_uri": "https://localhost:8080/",
     "height": 497
    },
    "id": "_1GKDvz5WFG6",
    "outputId": "ec63f031-4fd6-4fe4-b9cc-8b985c6a38f1"
   },
   "outputs": [
    {
     "data": {
      "image/png": "[encoded data removed]",
      "text/plain": [
       "Plot with title \"x\""
      ]
     },
     "metadata": {},
     "output_type": "display_data"
    }
   ],
   "source": [
    "\n",
    "acf(dat)"
   ]
  },
  {
   "cell_type": "code",
   "execution_count": 13,
   "metadata": {
    "colab": {
     "base_uri": "https://localhost:8080/",
     "height": 497
    },
    "id": "9nS4BCN3WFG7",
    "outputId": "5172946f-5b99-42b2-9bc1-062ca3d5c6c4"
   },
   "outputs": [
    {
     "data": {
      "image/png": "[encoded data removed]",
      "text/plain": [
       "Plot with title \"Series  dat\""
      ]
     },
     "metadata": {},
     "output_type": "display_data"
    }
   ],
   "source": [
    "pacf(dat)"
   ]
  },
  {
   "cell_type": "markdown",
   "metadata": {
    "id": "N_p1ckSzWFG8"
   },
   "source": [
    "AR, порядок 2 (мб конечно 1, но скорее 2, проверяется ML)"
   ]
  },
  {
   "cell_type": "code",
   "execution_count": 58,
   "metadata": {
    "colab": {
     "base_uri": "https://localhost:8080/"
    },
    "id": "INgcNdvuWFG8",
    "outputId": "64b5db7c-294d-495f-d027-7c533f452620"
   },
   "outputs": [
    {
     "data": {
      "text/html": [
       "858.450098757645"
      ],
      "text/latex": [
       "858.450098757645"
      ],
      "text/markdown": [
       "858.450098757645"
      ],
      "text/plain": [
       "[1] 858.4501"
      ]
     },
     "metadata": {},
     "output_type": "display_data"
    }
   ],
   "source": [
    "\n",
    "# метод максимального правдоподобия + статистика Акаике\n",
    "ml = arima(dat, order = c(0,0,3),method=\"ML\")\n",
    "ml$aic"
   ]
  },
  {
   "cell_type": "markdown",
   "metadata": {
    "id": "HD7k7hTtWr8l"
   },
   "source": [
    "Всё-таки 2"
   ]
  },
  {
   "cell_type": "code",
   "execution_count": 59,
   "metadata": {
    "colab": {
     "base_uri": "https://localhost:8080/"
    },
    "id": "f3nimvJwWFG9",
    "outputId": "da3f21ed-9662-40a4-a664-b8b9e01a219b"
   },
   "outputs": [
    {
     "data": {
      "text/html": [
       "<dl class=dl-horizontal>\n",
       "\t<dt>ma1</dt>\n",
       "\t\t<dd>-0.228798503331789</dd>\n",
       "\t<dt>ma2</dt>\n",
       "\t\t<dd>-0.355976799329275</dd>\n",
       "\t<dt>ma3</dt>\n",
       "\t\t<dd>0.268717474620466</dd>\n",
       "\t<dt>intercept</dt>\n",
       "\t\t<dd>-0.0133155128038972</dd>\n",
       "</dl>\n"
      ],
      "text/latex": [
       "\\begin{description*}\n",
       "\\item[ma1] -0.228798503331789\n",
       "\\item[ma2] -0.355976799329275\n",
       "\\item[ma3] 0.268717474620466\n",
       "\\item[intercept] -0.0133155128038972\n",
       "\\end{description*}\n"
      ],
      "text/markdown": [
       "ma1\n",
       ":   -0.228798503331789ma2\n",
       ":   -0.355976799329275ma3\n",
       ":   0.268717474620466intercept\n",
       ":   -0.0133155128038972\n",
       "\n"
      ],
      "text/plain": [
       "        ma1         ma2         ma3   intercept \n",
       "-0.22879850 -0.35597680  0.26871747 -0.01331551 "
      ]
     },
     "metadata": {},
     "output_type": "display_data"
    }
   ],
   "source": [
    "# параметры (в ответ нужно ЭТИ)\n",
    "ml$coef"
   ]
  },
  {
   "cell_type": "code",
   "execution_count": 60,
   "metadata": {
    "colab": {
     "base_uri": "https://localhost:8080/"
    },
    "id": "hyigUhYWWFG9",
    "outputId": "bb20fb3f-ba2d-479d-f743-246a7451c746"
   },
   "outputs": [
    {
     "data": {
      "text/html": [
       "<dl class=dl-horizontal>\n",
       "\t<dt>ma1</dt>\n",
       "\t\t<dd>-0.227871704436265</dd>\n",
       "\t<dt>ma2</dt>\n",
       "\t\t<dd>-0.357197983761847</dd>\n",
       "\t<dt>ma3</dt>\n",
       "\t\t<dd>0.270705223855497</dd>\n",
       "\t<dt>intercept</dt>\n",
       "\t\t<dd>-0.013849465926234</dd>\n",
       "</dl>\n"
      ],
      "text/latex": [
       "\\begin{description*}\n",
       "\\item[ma1] -0.227871704436265\n",
       "\\item[ma2] -0.357197983761847\n",
       "\\item[ma3] 0.270705223855497\n",
       "\\item[intercept] -0.013849465926234\n",
       "\\end{description*}\n"
      ],
      "text/markdown": [
       "ma1\n",
       ":   -0.227871704436265ma2\n",
       ":   -0.357197983761847ma3\n",
       ":   0.270705223855497intercept\n",
       ":   -0.013849465926234\n",
       "\n"
      ],
      "text/plain": [
       "        ma1         ma2         ma3   intercept \n",
       "-0.22787170 -0.35719798  0.27070522 -0.01384947 "
      ]
     },
     "metadata": {},
     "output_type": "display_data"
    }
   ],
   "source": [
    "# параметры\n",
    "ma2 = arima(dat, order = c(0,0,3),method=\"CSS\")\n",
    "ma2$coef"
   ]
  },
  {
   "cell_type": "code",
   "execution_count": 61,
   "metadata": {
    "colab": {
     "base_uri": "https://localhost:8080/"
    },
    "id": "YTXEKB3hWFG9",
    "outputId": "c381fb9e-aa40-4cee-d69f-ddab201441cb"
   },
   "outputs": [
    {
     "data": {
      "text/plain": [
       "\n",
       "\tBox-Ljung test\n",
       "\n",
       "data:  res\n",
       "X-squared = 1.221, df = 4, p-value = 0.8746\n"
      ]
     },
     "metadata": {},
     "output_type": "display_data"
    }
   ],
   "source": [
    "# тест Льюнг-Бокса\n",
    "res <- ml$residuals\n",
    "Box.test(res, lag = 6, type = \"Ljung-Box\", fitdf = 2)"
   ]
  },
  {
   "cell_type": "code",
   "execution_count": 63,
   "metadata": {},
   "outputs": [
    {
     "data": {
      "text/html": [
       "2"
      ],
      "text/latex": [
       "2"
      ],
      "text/markdown": [
       "2"
      ],
      "text/plain": [
       "[1] 2"
      ]
     },
     "metadata": {},
     "output_type": "display_data"
    }
   ],
   "source": [
    "ar1 <- ar(dat, method=\"yule-walker\")\n",
    "ar1 <- ar(dat, method=\"yw\")\n",
    "ar1$order"
   ]
  },
  {
   "cell_type": "code",
   "execution_count": 37,
   "metadata": {
    "colab": {
     "base_uri": "https://localhost:8080/",
     "height": 497
    },
    "id": "vOjNCl17WFG-",
    "outputId": "adb699e6-0188-4975-d015-c4e41c233351"
   },
   "outputs": [
    {
     "data": {
      "image/png": "[encoded data removed]",
      "text/plain": [
       "Plot with title \"Normal Q-Q Plot\""
      ]
     },
     "metadata": {},
     "output_type": "display_data"
    }
   ],
   "source": [
    "\n",
    "qqnorm(res)\n",
    "qqline(res)"
   ]
  },
  {
   "cell_type": "code",
   "execution_count": null,
   "metadata": {},
   "outputs": [],
   "source": []
  }
 ],
 "metadata": {
  "colab": {
   "provenance": []
  },
  "kernelspec": {
   "display_name": "R",
   "language": "R",
   "name": "ir"
  },
  "language_info": {
   "codemirror_mode": "r",
   "file_extension": ".r",
   "mimetype": "text/x-r-source",
   "name": "R",
   "pygments_lexer": "r",
   "version": "3.6.1"
  }
 },
 "nbformat": 4,
 "nbformat_minor": 1
}
