{
  "nbformat": 4,
  "nbformat_minor": 0,
  "metadata": {
    "colab": {
      "provenance": []
    },
    "kernelspec": {
      "name": "ir",
      "display_name": "R"
    },
    "language_info": {
      "name": "R"
    }
  },
  "cells": [
    {
      "cell_type": "code",
      "execution_count": 1,
      "metadata": {
        "id": "Nwjwr0FEGlUE",
        "colab": {
          "base_uri": "https://localhost:8080/"
        },
        "outputId": "fe2174ba-64cc-4f36-89ff-30b73a745999"
      },
      "outputs": [
        {
          "output_type": "stream",
          "name": "stderr",
          "text": [
            "Installing package into ‘/usr/local/lib/R/site-library’\n",
            "(as ‘lib’ is unspecified)\n",
            "\n",
            "also installing the dependencies ‘timeDate’, ‘timeSeries’, ‘gss’, ‘stabledist’\n",
            "\n",
            "\n",
            "Installing package into ‘/usr/local/lib/R/site-library’\n",
            "(as ‘lib’ is unspecified)\n",
            "\n",
            "Installing package into ‘/usr/local/lib/R/site-library’\n",
            "(as ‘lib’ is unspecified)\n",
            "\n",
            "randomForest 4.7-1.2\n",
            "\n",
            "Type rfNews() to see new features/changes/bug fixes.\n",
            "\n"
          ]
        }
      ],
      "source": [
        "install.packages(\"fBasics\")\n",
        "install.packages(\"xgboost\")\n",
        "install.packages(\"randomForest\")\n",
        "library(fBasics)\n",
        "library(xgboost)\n",
        "library(randomForest)"
      ]
    },
    {
      "cell_type": "code",
      "source": [
        "install.packages(\"ramify\")\n",
        "library(ramify)"
      ],
      "metadata": {
        "colab": {
          "base_uri": "https://localhost:8080/"
        },
        "id": "XlqgbFzMREOr",
        "outputId": "24dd2a52-2e5c-46e9-baa3-cc27d208ca8e"
      },
      "execution_count": 2,
      "outputs": [
        {
          "output_type": "stream",
          "name": "stderr",
          "text": [
            "Installing package into ‘/usr/local/lib/R/site-library’\n",
            "(as ‘lib’ is unspecified)\n",
            "\n",
            "\n",
            "Attaching package: ‘ramify’\n",
            "\n",
            "\n",
            "The following objects are masked from ‘package:fBasics’:\n",
            "\n",
            "    inv, tr\n",
            "\n",
            "\n",
            "The following object is masked from ‘package:graphics’:\n",
            "\n",
            "    clip\n",
            "\n",
            "\n"
          ]
        }
      ]
    },
    {
      "cell_type": "markdown",
      "source": [
        "# Вариант 16"
      ],
      "metadata": {
        "id": "rOUMHDYD04z9"
      }
    },
    {
      "cell_type": "markdown",
      "source": [
        "### Обучение и проверка точности"
      ],
      "metadata": {
        "id": "V_thEK_X081H"
      }
    },
    {
      "cell_type": "code",
      "source": [
        "Train <- read.csv(\"train_var_16.csv\",header = TRUE,sep =\",\")"
      ],
      "metadata": {
        "id": "cYLMzW0Uspyx"
      },
      "execution_count": 54,
      "outputs": []
    },
    {
      "cell_type": "code",
      "source": [
        "MultiLogLoss <- function(y,p)\n",
        "{\n",
        "  nrow <- dim(y)[1]\n",
        "  ncol <- dim(y)[2]\n",
        "  s <- NA\n",
        "  p0 <- ifelse(p != 0,p,1)\n",
        "  if ((nrow == dim(p)[1]) &&  (ncol == dim(p)[2]))\n",
        "  {\n",
        "     s <- -sum(y * log(p0))/nrow\n",
        "  }\n",
        "  return(s)\n",
        "}"
      ],
      "metadata": {
        "id": "SQQmWx_TW3Du"
      },
      "execution_count": 55,
      "outputs": []
    },
    {
      "cell_type": "code",
      "source": [
        "set.seed(13)\n",
        "testInd = sample(nrow(Train), nrow(Train)/3)\n",
        "Train$f <- as.factor(Train$f)\n",
        "\n",
        "xTrain = Train[-testInd,]\n",
        "\n",
        "xTest = Train[testInd,]\n",
        "yTrain = as.factor(Train$f[-testInd])\n",
        "yTest = Train$f[testInd]"
      ],
      "metadata": {
        "id": "LfrzdDDdx2SA"
      },
      "execution_count": 56,
      "outputs": []
    },
    {
      "cell_type": "markdown",
      "source": [
        "**Random Forest**"
      ],
      "metadata": {
        "id": "J1NVxHIQJGFO"
      }
    },
    {
      "cell_type": "code",
      "source": [
        "rfOtto <- randomForest(f~., data=xTrain,ntree=100)\n",
        "rfPred <- predict(rfOtto, xTest, type=\"prob\")\n",
        "rfPred[1:5,]"
      ],
      "metadata": {
        "colab": {
          "base_uri": "https://localhost:8080/",
          "height": 224
        },
        "id": "jbNEE1wewEQk",
        "outputId": "542d089b-2d0e-4134-863d-6069f1cac160"
      },
      "execution_count": 5,
      "outputs": [
        {
          "output_type": "display_data",
          "data": {
            "text/html": [
              "<table class=\"dataframe\">\n",
              "<caption>A matrix: 5 × 4 of type dbl</caption>\n",
              "<thead>\n",
              "\t<tr><th></th><th scope=col>A</th><th scope=col>B</th><th scope=col>C</th><th scope=col>D</th></tr>\n",
              "</thead>\n",
              "<tbody>\n",
              "\t<tr><th scope=row>259</th><td>0.13</td><td>0.03</td><td>0.83</td><td>0.01</td></tr>\n",
              "\t<tr><th scope=row>74</th><td>0.01</td><td>0.28</td><td>0.08</td><td>0.63</td></tr>\n",
              "\t<tr><th scope=row>205</th><td>0.02</td><td>0.00</td><td>0.23</td><td>0.75</td></tr>\n",
              "\t<tr><th scope=row>262</th><td>0.00</td><td>0.91</td><td>0.04</td><td>0.05</td></tr>\n",
              "\t<tr><th scope=row>132</th><td>0.00</td><td>0.58</td><td>0.09</td><td>0.33</td></tr>\n",
              "</tbody>\n",
              "</table>\n"
            ],
            "text/markdown": "\nA matrix: 5 × 4 of type dbl\n\n| <!--/--> | A | B | C | D |\n|---|---|---|---|---|\n| 259 | 0.13 | 0.03 | 0.83 | 0.01 |\n| 74 | 0.01 | 0.28 | 0.08 | 0.63 |\n| 205 | 0.02 | 0.00 | 0.23 | 0.75 |\n| 262 | 0.00 | 0.91 | 0.04 | 0.05 |\n| 132 | 0.00 | 0.58 | 0.09 | 0.33 |\n\n",
            "text/latex": "A matrix: 5 × 4 of type dbl\n\\begin{tabular}{r|llll}\n  & A & B & C & D\\\\\n\\hline\n\t259 & 0.13 & 0.03 & 0.83 & 0.01\\\\\n\t74 & 0.01 & 0.28 & 0.08 & 0.63\\\\\n\t205 & 0.02 & 0.00 & 0.23 & 0.75\\\\\n\t262 & 0.00 & 0.91 & 0.04 & 0.05\\\\\n\t132 & 0.00 & 0.58 & 0.09 & 0.33\\\\\n\\end{tabular}\n",
            "text/plain": [
              "    A    B    C    D   \n",
              "259 0.13 0.03 0.83 0.01\n",
              "74  0.01 0.28 0.08 0.63\n",
              "205 0.02 0.00 0.23 0.75\n",
              "262 0.00 0.91 0.04 0.05\n",
              "132 0.00 0.58 0.09 0.33"
            ]
          },
          "metadata": {}
        }
      ]
    },
    {
      "cell_type": "code",
      "source": [
        "rfPredTest <- predict(rfOtto, xTest, type=\"response\")\n",
        "head(rfPredTest)"
      ],
      "metadata": {
        "colab": {
          "base_uri": "https://localhost:8080/",
          "height": 52
        },
        "id": "n18SyNjS5bCB",
        "outputId": "c0f8a8c2-f1ea-4a19-822f-c777cbf5992b"
      },
      "execution_count": 6,
      "outputs": [
        {
          "output_type": "display_data",
          "data": {
            "text/html": [
              "<style>\n",
              ".dl-inline {width: auto; margin:0; padding: 0}\n",
              ".dl-inline>dt, .dl-inline>dd {float: none; width: auto; display: inline-block}\n",
              ".dl-inline>dt::after {content: \":\\0020\"; padding-right: .5ex}\n",
              ".dl-inline>dt:not(:first-of-type) {padding-left: .5ex}\n",
              "</style><dl class=dl-inline><dt>259</dt><dd>C</dd><dt>74</dt><dd>D</dd><dt>205</dt><dd>D</dd><dt>262</dt><dd>B</dd><dt>132</dt><dd>B</dd><dt>221</dt><dd>A</dd></dl>\n",
              "\n",
              "<details>\n",
              "\t<summary style=display:list-item;cursor:pointer>\n",
              "\t\t<strong>Levels</strong>:\n",
              "\t</summary>\n",
              "\t<style>\n",
              "\t.list-inline {list-style: none; margin:0; padding: 0}\n",
              "\t.list-inline>li {display: inline-block}\n",
              "\t.list-inline>li:not(:last-child)::after {content: \"\\00b7\"; padding: 0 .5ex}\n",
              "\t</style>\n",
              "\t<ol class=list-inline><li>'A'</li><li>'B'</li><li>'C'</li><li>'D'</li></ol>\n",
              "</details>"
            ],
            "text/markdown": "259\n:   C74\n:   D205\n:   D262\n:   B132\n:   B221\n:   A\n\n\n**Levels**: 1. 'A'\n2. 'B'\n3. 'C'\n4. 'D'\n\n\n",
            "text/latex": "\\begin{description*}\n\\item[259] C\n\\item[74] D\n\\item[205] D\n\\item[262] B\n\\item[132] B\n\\item[221] A\n\\end{description*}\n\n\\emph{Levels}: \\begin{enumerate*}\n\\item 'A'\n\\item 'B'\n\\item 'C'\n\\item 'D'\n\\end{enumerate*}\n",
            "text/plain": [
              "259  74 205 262 132 221 \n",
              "  C   D   D   B   B   A \n",
              "Levels: A B C D"
            ]
          },
          "metadata": {}
        }
      ]
    },
    {
      "cell_type": "code",
      "source": [
        "print(rfPredTest==yTest)  #21"
      ],
      "metadata": {
        "colab": {
          "base_uri": "https://localhost:8080/"
        },
        "id": "wvkayjrrAK7H",
        "outputId": "7f7118e8-3aff-4950-fe04-bbea89848cd5"
      },
      "execution_count": null,
      "outputs": [
        {
          "output_type": "stream",
          "name": "stdout",
          "text": [
            "  [1]  TRUE  TRUE  TRUE  TRUE  TRUE  TRUE FALSE  TRUE  TRUE  TRUE FALSE  TRUE\n",
            " [13]  TRUE  TRUE  TRUE  TRUE  TRUE  TRUE  TRUE  TRUE  TRUE  TRUE  TRUE  TRUE\n",
            " [25] FALSE  TRUE  TRUE  TRUE  TRUE  TRUE FALSE  TRUE FALSE  TRUE  TRUE  TRUE\n",
            " [37]  TRUE  TRUE  TRUE  TRUE  TRUE FALSE  TRUE  TRUE  TRUE FALSE  TRUE FALSE\n",
            " [49] FALSE  TRUE  TRUE FALSE  TRUE  TRUE  TRUE  TRUE  TRUE FALSE FALSE  TRUE\n",
            " [61]  TRUE FALSE FALSE  TRUE  TRUE  TRUE  TRUE  TRUE  TRUE  TRUE FALSE  TRUE\n",
            " [73]  TRUE FALSE FALSE  TRUE  TRUE  TRUE  TRUE  TRUE  TRUE  TRUE FALSE  TRUE\n",
            " [85]  TRUE FALSE  TRUE  TRUE  TRUE  TRUE  TRUE  TRUE  TRUE FALSE  TRUE  TRUE\n",
            " [97]  TRUE FALSE  TRUE  TRUE\n"
          ]
        }
      ]
    },
    {
      "cell_type": "code",
      "source": [
        "# самое идиотское на свете создание матрицы, потому что библиотека не подключается\n",
        "A <- c()\n",
        "B <- c()\n",
        "C <- c()\n",
        "D <- c()\n",
        "for(i in 1:length(yTest)) {\n",
        "    A[i] <- 'A'\n",
        "    B[i] <- 'B'\n",
        "    C[i] <- 'C'\n",
        "    D[i] <- 'D'\n",
        "}\n",
        "yTest_A <- as.numeric(yTest == A)\n",
        "yTest_B <- as.numeric(yTest == B)\n",
        "yTest_C <- as.numeric(yTest == C)\n",
        "yTest_D <- as.numeric(yTest == D)\n",
        "rf_target_IndMat <- cbind(yTest_A, yTest_B, yTest_C, yTest_D)\n",
        "rf_target_IndMat[1:10,]"
      ],
      "metadata": {
        "colab": {
          "base_uri": "https://localhost:8080/",
          "height": 380
        },
        "id": "2wjy7w69GE49",
        "outputId": "c56983e9-49fb-4637-95c0-f990d7c5ee95"
      },
      "execution_count": 7,
      "outputs": [
        {
          "output_type": "display_data",
          "data": {
            "text/html": [
              "<table class=\"dataframe\">\n",
              "<caption>A matrix: 10 × 4 of type dbl</caption>\n",
              "<thead>\n",
              "\t<tr><th scope=col>yTest_A</th><th scope=col>yTest_B</th><th scope=col>yTest_C</th><th scope=col>yTest_D</th></tr>\n",
              "</thead>\n",
              "<tbody>\n",
              "\t<tr><td>0</td><td>0</td><td>1</td><td>0</td></tr>\n",
              "\t<tr><td>0</td><td>0</td><td>0</td><td>1</td></tr>\n",
              "\t<tr><td>0</td><td>0</td><td>1</td><td>0</td></tr>\n",
              "\t<tr><td>0</td><td>1</td><td>0</td><td>0</td></tr>\n",
              "\t<tr><td>0</td><td>1</td><td>0</td><td>0</td></tr>\n",
              "\t<tr><td>1</td><td>0</td><td>0</td><td>0</td></tr>\n",
              "\t<tr><td>1</td><td>0</td><td>0</td><td>0</td></tr>\n",
              "\t<tr><td>0</td><td>0</td><td>0</td><td>1</td></tr>\n",
              "\t<tr><td>0</td><td>1</td><td>0</td><td>0</td></tr>\n",
              "\t<tr><td>0</td><td>0</td><td>1</td><td>0</td></tr>\n",
              "</tbody>\n",
              "</table>\n"
            ],
            "text/markdown": "\nA matrix: 10 × 4 of type dbl\n\n| yTest_A | yTest_B | yTest_C | yTest_D |\n|---|---|---|---|\n| 0 | 0 | 1 | 0 |\n| 0 | 0 | 0 | 1 |\n| 0 | 0 | 1 | 0 |\n| 0 | 1 | 0 | 0 |\n| 0 | 1 | 0 | 0 |\n| 1 | 0 | 0 | 0 |\n| 1 | 0 | 0 | 0 |\n| 0 | 0 | 0 | 1 |\n| 0 | 1 | 0 | 0 |\n| 0 | 0 | 1 | 0 |\n\n",
            "text/latex": "A matrix: 10 × 4 of type dbl\n\\begin{tabular}{llll}\n yTest\\_A & yTest\\_B & yTest\\_C & yTest\\_D\\\\\n\\hline\n\t 0 & 0 & 1 & 0\\\\\n\t 0 & 0 & 0 & 1\\\\\n\t 0 & 0 & 1 & 0\\\\\n\t 0 & 1 & 0 & 0\\\\\n\t 0 & 1 & 0 & 0\\\\\n\t 1 & 0 & 0 & 0\\\\\n\t 1 & 0 & 0 & 0\\\\\n\t 0 & 0 & 0 & 1\\\\\n\t 0 & 1 & 0 & 0\\\\\n\t 0 & 0 & 1 & 0\\\\\n\\end{tabular}\n",
            "text/plain": [
              "      yTest_A yTest_B yTest_C yTest_D\n",
              " [1,] 0       0       1       0      \n",
              " [2,] 0       0       0       1      \n",
              " [3,] 0       0       1       0      \n",
              " [4,] 0       1       0       0      \n",
              " [5,] 0       1       0       0      \n",
              " [6,] 1       0       0       0      \n",
              " [7,] 1       0       0       0      \n",
              " [8,] 0       0       0       1      \n",
              " [9,] 0       1       0       0      \n",
              "[10,] 0       0       1       0      "
            ]
          },
          "metadata": {}
        }
      ]
    },
    {
      "cell_type": "code",
      "source": [
        "(rfLogLoss = MultiLogLoss(rf_target_IndMat,rfPred))"
      ],
      "metadata": {
        "colab": {
          "base_uri": "https://localhost:8080/",
          "height": 34
        },
        "id": "X579-pZ6JMXi",
        "outputId": "9d969f91-f0a8-4254-c6fa-44051554ce57"
      },
      "execution_count": 10,
      "outputs": [
        {
          "output_type": "display_data",
          "data": {
            "text/html": [
              "0.517212341761994"
            ],
            "text/markdown": "0.517212341761994",
            "text/latex": "0.517212341761994",
            "text/plain": [
              "[1] 0.5172123"
            ]
          },
          "metadata": {}
        }
      ]
    },
    {
      "cell_type": "markdown",
      "source": [
        "Чё-то капец оно большое....."
      ],
      "metadata": {
        "id": "uxU7eJ7YNc3f"
      }
    },
    {
      "cell_type": "markdown",
      "source": [
        "**Gradient boosting**"
      ],
      "metadata": {
        "id": "q8Af_pu_NhYc"
      }
    },
    {
      "cell_type": "code",
      "source": [
        "set.seed(13)\n",
        "testInd = sample(nrow(Train), nrow(Train)/3)\n",
        "Train$f <- as.factor(Train$f)\n",
        "\n",
        "xTrain = Train[-testInd,]\n",
        "\n",
        "xTest = Train[testInd,]\n",
        "yTrain = as.factor(Train$f[-testInd])\n",
        "yTest = Train$f[testInd]"
      ],
      "metadata": {
        "id": "Fd8dmkseCvw7"
      },
      "execution_count": 69,
      "outputs": []
    },
    {
      "cell_type": "code",
      "source": [
        "xTrain = data.matrix(xTrain[c(1, 2, 3)])\n",
        "xTest = data.matrix(xTest[c(1, 2, 3)])\n",
        "yTrain = as.integer(yTrain)-1\n",
        "table(yTrain)"
      ],
      "metadata": {
        "id": "DlNJBY1-NoJ0",
        "colab": {
          "base_uri": "https://localhost:8080/",
          "height": 69
        },
        "outputId": "20bf7ead-b8f9-4d7a-8c6c-83f14f44d719"
      },
      "execution_count": 70,
      "outputs": [
        {
          "output_type": "display_data",
          "data": {
            "text/plain": [
              "yTrain\n",
              " 0  1  2  3 \n",
              "37 40 63 60 "
            ]
          },
          "metadata": {}
        }
      ]
    },
    {
      "cell_type": "code",
      "source": [
        "numClasses = 4\n",
        "param <- list(\"objective\" = \"multi:softprob\",\n",
        "              \"eval_metric\" = \"mlogloss\",\n",
        "              \"num_class\" = numClasses)"
      ],
      "metadata": {
        "id": "kggvv5TOIR7j"
      },
      "execution_count": 71,
      "outputs": []
    },
    {
      "cell_type": "code",
      "source": [
        "cv.nround <- 67 # подбором, вроде это оптимальный варик\n",
        "cv.nfold <- 6\n",
        "set.seed(1)\n",
        "bst.cv = xgb.cv(param=param, data = xTrain, label = yTrain,\n",
        "                nfold = cv.nfold, nrounds = cv.nround,verbose=F)\n",
        "bst = xgboost(param=param, data = xTrain, label = yTrain,\n",
        "              nrounds=cv.nround,verbose=F)\n",
        "xgbPred <- matrix(predict(bst, xTest), ncol = numClasses, byrow = TRUE)\n",
        "head(xgbPred)"
      ],
      "metadata": {
        "colab": {
          "base_uri": "https://localhost:8080/",
          "height": 223
        },
        "id": "15TELvvFXILy",
        "outputId": "0438eea7-ef48-474b-e876-ae17f1e90d70"
      },
      "execution_count": 109,
      "outputs": [
        {
          "output_type": "display_data",
          "data": {
            "text/html": [
              "<table class=\"dataframe\">\n",
              "<caption>A matrix: 6 × 4 of type dbl</caption>\n",
              "<tbody>\n",
              "\t<tr><td>3.467708e-02</td><td>1.482020e-03</td><td>9.597296e-01</td><td>0.0041112802</td></tr>\n",
              "\t<tr><td>1.093910e-03</td><td>2.813158e-02</td><td>2.216364e-03</td><td>0.9685580730</td></tr>\n",
              "\t<tr><td>7.206434e-04</td><td>8.526382e-04</td><td>1.287041e-01</td><td>0.8697225451</td></tr>\n",
              "\t<tr><td>4.229703e-05</td><td>9.994122e-01</td><td>6.860662e-05</td><td>0.0004768874</td></tr>\n",
              "\t<tr><td>1.004494e-03</td><td>7.143434e-01</td><td>2.244286e-03</td><td>0.2824078202</td></tr>\n",
              "\t<tr><td>9.986081e-01</td><td>8.442687e-05</td><td>1.135516e-03</td><td>0.0001720077</td></tr>\n",
              "</tbody>\n",
              "</table>\n"
            ],
            "text/markdown": "\nA matrix: 6 × 4 of type dbl\n\n| 3.467708e-02 | 1.482020e-03 | 9.597296e-01 | 0.0041112802 |\n| 1.093910e-03 | 2.813158e-02 | 2.216364e-03 | 0.9685580730 |\n| 7.206434e-04 | 8.526382e-04 | 1.287041e-01 | 0.8697225451 |\n| 4.229703e-05 | 9.994122e-01 | 6.860662e-05 | 0.0004768874 |\n| 1.004494e-03 | 7.143434e-01 | 2.244286e-03 | 0.2824078202 |\n| 9.986081e-01 | 8.442687e-05 | 1.135516e-03 | 0.0001720077 |\n\n",
            "text/latex": "A matrix: 6 × 4 of type dbl\n\\begin{tabular}{llll}\n\t 3.467708e-02 & 1.482020e-03 & 9.597296e-01 & 0.0041112802\\\\\n\t 1.093910e-03 & 2.813158e-02 & 2.216364e-03 & 0.9685580730\\\\\n\t 7.206434e-04 & 8.526382e-04 & 1.287041e-01 & 0.8697225451\\\\\n\t 4.229703e-05 & 9.994122e-01 & 6.860662e-05 & 0.0004768874\\\\\n\t 1.004494e-03 & 7.143434e-01 & 2.244286e-03 & 0.2824078202\\\\\n\t 9.986081e-01 & 8.442687e-05 & 1.135516e-03 & 0.0001720077\\\\\n\\end{tabular}\n",
            "text/plain": [
              "     [,1]         [,2]         [,3]         [,4]        \n",
              "[1,] 3.467708e-02 1.482020e-03 9.597296e-01 0.0041112802\n",
              "[2,] 1.093910e-03 2.813158e-02 2.216364e-03 0.9685580730\n",
              "[3,] 7.206434e-04 8.526382e-04 1.287041e-01 0.8697225451\n",
              "[4,] 4.229703e-05 9.994122e-01 6.860662e-05 0.0004768874\n",
              "[5,] 1.004494e-03 7.143434e-01 2.244286e-03 0.2824078202\n",
              "[6,] 9.986081e-01 8.442687e-05 1.135516e-03 0.0001720077"
            ]
          },
          "metadata": {}
        }
      ]
    },
    {
      "cell_type": "code",
      "source": [
        "(gbLogLoss = MultiLogLoss(rf_target_IndMat,xgbPred))"
      ],
      "metadata": {
        "colab": {
          "base_uri": "https://localhost:8080/",
          "height": 34
        },
        "id": "QbrAM_aSXS9-",
        "outputId": "c8b2728f-615e-4c33-8fdc-6c8fb2a080c0"
      },
      "execution_count": 110,
      "outputs": [
        {
          "output_type": "display_data",
          "data": {
            "text/html": [
              "0.397096282764179"
            ],
            "text/markdown": "0.397096282764179",
            "text/latex": "0.397096282764179",
            "text/plain": [
              "[1] 0.3970963"
            ]
          },
          "metadata": {}
        }
      ]
    },
    {
      "cell_type": "code",
      "source": [
        "xgbPredTestNum = argmax(xgbPred)\n",
        "xgbPredTest = c()\n",
        "for(i in 1:length(xgbPredTestNum)) {\n",
        "    if (xgbPredTestNum[i] == 1) {\n",
        "        xgbPredTest[i] <- 'A'\n",
        "    } else {\n",
        "        if (xgbPredTestNum[i] == 2) {\n",
        "            xgbPredTest[i] <- 'B'\n",
        "        } else {\n",
        "            if (xgbPredTestNum[i] == 3) {\n",
        "                xgbPredTest[i] <- 'C'\n",
        "            } else {\n",
        "                xgbPredTest[i] <- 'D'\n",
        "            }\n",
        "        }\n",
        "    }\n",
        "}\n",
        "print(xgbPredTest==yTest)  #16"
      ],
      "metadata": {
        "colab": {
          "base_uri": "https://localhost:8080/"
        },
        "id": "5jnsZPtFXWnv",
        "outputId": "5e9970a7-bf6a-4eae-d063-c6d34547bdfe"
      },
      "execution_count": 111,
      "outputs": [
        {
          "output_type": "stream",
          "name": "stdout",
          "text": [
            "  [1]  TRUE  TRUE FALSE  TRUE  TRUE  TRUE  TRUE  TRUE  TRUE  TRUE  TRUE  TRUE\n",
            " [13]  TRUE  TRUE FALSE  TRUE FALSE  TRUE  TRUE  TRUE  TRUE  TRUE  TRUE  TRUE\n",
            " [25]  TRUE  TRUE  TRUE  TRUE  TRUE  TRUE  TRUE  TRUE  TRUE  TRUE  TRUE  TRUE\n",
            " [37]  TRUE  TRUE  TRUE  TRUE  TRUE  TRUE  TRUE FALSE  TRUE FALSE  TRUE  TRUE\n",
            " [49]  TRUE  TRUE FALSE FALSE  TRUE FALSE  TRUE FALSE  TRUE  TRUE  TRUE  TRUE\n",
            " [61]  TRUE  TRUE FALSE  TRUE FALSE  TRUE  TRUE  TRUE FALSE  TRUE FALSE  TRUE\n",
            " [73]  TRUE  TRUE  TRUE  TRUE  TRUE  TRUE  TRUE FALSE  TRUE  TRUE  TRUE  TRUE\n",
            " [85]  TRUE  TRUE  TRUE  TRUE  TRUE  TRUE  TRUE  TRUE  TRUE FALSE  TRUE  TRUE\n",
            " [97]  TRUE FALSE  TRUE  TRUE\n"
          ]
        }
      ]
    },
    {
      "cell_type": "markdown",
      "source": [
        "По MultiLogLoss и если посчитать втупую количество FALSE в каждом предсказании, видно, что лучше всего работает xgb при cv.nround=40"
      ],
      "metadata": {
        "id": "wTEwsnOkYSy0"
      }
    },
    {
      "cell_type": "markdown",
      "source": [
        "### Получение результатов"
      ],
      "metadata": {
        "id": "IW5Elqe61Sw7"
      }
    },
    {
      "cell_type": "code",
      "source": [
        "Train <- read.csv(\"train_var_16.csv\",header = TRUE,sep =\",\")\n",
        "Train$f <- as.factor(Train$f)\n",
        "xTrain = Train[c(1, 2, 3)]\n",
        "yTrain = Train$f\n",
        "xTest <- read.csv(\"test_var_16.csv\",header = TRUE,sep =\",\")\n",
        "head(xTrain,10)"
      ],
      "metadata": {
        "id": "QqtzM_ng0sM8",
        "colab": {
          "base_uri": "https://localhost:8080/",
          "height": 412
        },
        "outputId": "8bc791e6-b6e3-4ff2-92ab-7a39745dab2d"
      },
      "execution_count": 62,
      "outputs": [
        {
          "output_type": "display_data",
          "data": {
            "text/html": [
              "<table class=\"dataframe\">\n",
              "<caption>A data.frame: 10 × 3</caption>\n",
              "<thead>\n",
              "\t<tr><th></th><th scope=col>x1</th><th scope=col>x2</th><th scope=col>x3</th></tr>\n",
              "\t<tr><th></th><th scope=col>&lt;dbl&gt;</th><th scope=col>&lt;dbl&gt;</th><th scope=col>&lt;dbl&gt;</th></tr>\n",
              "</thead>\n",
              "<tbody>\n",
              "\t<tr><th scope=row>1</th><td>0.740582499</td><td>1.46121844</td><td>0.65099881</td></tr>\n",
              "\t<tr><th scope=row>2</th><td>0.336409246</td><td>0.42546037</td><td>2.38805983</td></tr>\n",
              "\t<tr><th scope=row>3</th><td>0.193430599</td><td>0.70941501</td><td>1.97439871</td></tr>\n",
              "\t<tr><th scope=row>4</th><td>0.280807660</td><td>0.06937908</td><td>2.84477286</td></tr>\n",
              "\t<tr><th scope=row>5</th><td>0.997864848</td><td>1.65404679</td><td>0.04714673</td></tr>\n",
              "\t<tr><th scope=row>6</th><td>0.534172288</td><td>1.70515807</td><td>0.91571973</td></tr>\n",
              "\t<tr><th scope=row>7</th><td>0.958553967</td><td>1.69493166</td><td>1.83806391</td></tr>\n",
              "\t<tr><th scope=row>8</th><td>0.003312868</td><td>1.64359377</td><td>0.58816586</td></tr>\n",
              "\t<tr><th scope=row>9</th><td>0.417490384</td><td>1.08938486</td><td>1.50861648</td></tr>\n",
              "\t<tr><th scope=row>10</th><td>0.685118414</td><td>1.84880007</td><td>1.11662952</td></tr>\n",
              "</tbody>\n",
              "</table>\n"
            ],
            "text/markdown": "\nA data.frame: 10 × 3\n\n| <!--/--> | x1 &lt;dbl&gt; | x2 &lt;dbl&gt; | x3 &lt;dbl&gt; |\n|---|---|---|---|\n| 1 | 0.740582499 | 1.46121844 | 0.65099881 |\n| 2 | 0.336409246 | 0.42546037 | 2.38805983 |\n| 3 | 0.193430599 | 0.70941501 | 1.97439871 |\n| 4 | 0.280807660 | 0.06937908 | 2.84477286 |\n| 5 | 0.997864848 | 1.65404679 | 0.04714673 |\n| 6 | 0.534172288 | 1.70515807 | 0.91571973 |\n| 7 | 0.958553967 | 1.69493166 | 1.83806391 |\n| 8 | 0.003312868 | 1.64359377 | 0.58816586 |\n| 9 | 0.417490384 | 1.08938486 | 1.50861648 |\n| 10 | 0.685118414 | 1.84880007 | 1.11662952 |\n\n",
            "text/latex": "A data.frame: 10 × 3\n\\begin{tabular}{r|lll}\n  & x1 & x2 & x3\\\\\n  & <dbl> & <dbl> & <dbl>\\\\\n\\hline\n\t1 & 0.740582499 & 1.46121844 & 0.65099881\\\\\n\t2 & 0.336409246 & 0.42546037 & 2.38805983\\\\\n\t3 & 0.193430599 & 0.70941501 & 1.97439871\\\\\n\t4 & 0.280807660 & 0.06937908 & 2.84477286\\\\\n\t5 & 0.997864848 & 1.65404679 & 0.04714673\\\\\n\t6 & 0.534172288 & 1.70515807 & 0.91571973\\\\\n\t7 & 0.958553967 & 1.69493166 & 1.83806391\\\\\n\t8 & 0.003312868 & 1.64359377 & 0.58816586\\\\\n\t9 & 0.417490384 & 1.08938486 & 1.50861648\\\\\n\t10 & 0.685118414 & 1.84880007 & 1.11662952\\\\\n\\end{tabular}\n",
            "text/plain": [
              "   x1          x2         x3        \n",
              "1  0.740582499 1.46121844 0.65099881\n",
              "2  0.336409246 0.42546037 2.38805983\n",
              "3  0.193430599 0.70941501 1.97439871\n",
              "4  0.280807660 0.06937908 2.84477286\n",
              "5  0.997864848 1.65404679 0.04714673\n",
              "6  0.534172288 1.70515807 0.91571973\n",
              "7  0.958553967 1.69493166 1.83806391\n",
              "8  0.003312868 1.64359377 0.58816586\n",
              "9  0.417490384 1.08938486 1.50861648\n",
              "10 0.685118414 1.84880007 1.11662952"
            ]
          },
          "metadata": {}
        }
      ]
    },
    {
      "cell_type": "code",
      "source": [
        "xTrain = data.matrix(xTrain)\n",
        "xTest = data.matrix(xTest)\n",
        "yTrain = as.integer(yTrain)-1\n",
        "table(yTrain)"
      ],
      "metadata": {
        "colab": {
          "base_uri": "https://localhost:8080/",
          "height": 69
        },
        "outputId": "da50238b-7551-4812-adfd-40c86fbdb592",
        "id": "Ofggg5aYZiCu"
      },
      "execution_count": 63,
      "outputs": [
        {
          "output_type": "display_data",
          "data": {
            "text/plain": [
              "yTrain\n",
              " 0  1  2  3 \n",
              "60 56 93 91 "
            ]
          },
          "metadata": {}
        }
      ]
    },
    {
      "cell_type": "code",
      "source": [
        "xTest"
      ],
      "metadata": {
        "colab": {
          "base_uri": "https://localhost:8080/",
          "height": 1000
        },
        "id": "9LhRNHjuVKkU",
        "outputId": "fd170d90-6673-4f9a-a769-03899cea5e57"
      },
      "execution_count": 64,
      "outputs": [
        {
          "output_type": "display_data",
          "data": {
            "text/html": [
              "<table class=\"dataframe\">\n",
              "<caption>A matrix: 200 × 3 of type dbl</caption>\n",
              "<thead>\n",
              "\t<tr><th scope=col>x1</th><th scope=col>x2</th><th scope=col>x3</th></tr>\n",
              "</thead>\n",
              "<tbody>\n",
              "\t<tr><td>0.941198268</td><td>0.35511204</td><td>0.45254143</td></tr>\n",
              "\t<tr><td>0.814925580</td><td>1.38527870</td><td>0.27652185</td></tr>\n",
              "\t<tr><td>0.453266963</td><td>0.83678957</td><td>2.31972561</td></tr>\n",
              "\t<tr><td>0.996952858</td><td>1.82794465</td><td>0.47186478</td></tr>\n",
              "\t<tr><td>0.346013498</td><td>0.02943333</td><td>0.87362706</td></tr>\n",
              "\t<tr><td>0.922335447</td><td>0.51821177</td><td>0.37794253</td></tr>\n",
              "\t<tr><td>0.084155077</td><td>1.68719154</td><td>1.87151217</td></tr>\n",
              "\t<tr><td>0.187454387</td><td>1.57806332</td><td>2.71118174</td></tr>\n",
              "\t<tr><td>0.305729876</td><td>1.21940248</td><td>0.23187057</td></tr>\n",
              "\t<tr><td>0.505229047</td><td>0.31250447</td><td>0.39984412</td></tr>\n",
              "\t<tr><td>0.398368051</td><td>0.58074699</td><td>1.35231450</td></tr>\n",
              "\t<tr><td>0.009955995</td><td>0.48265694</td><td>0.65098569</td></tr>\n",
              "\t<tr><td>0.804425976</td><td>0.67076929</td><td>0.08721239</td></tr>\n",
              "\t<tr><td>0.682214526</td><td>0.88782221</td><td>2.24785921</td></tr>\n",
              "\t<tr><td>0.567459869</td><td>0.90493473</td><td>1.82298710</td></tr>\n",
              "\t<tr><td>0.308879547</td><td>1.86594087</td><td>0.14594234</td></tr>\n",
              "\t<tr><td>0.705225435</td><td>0.36165208</td><td>0.66971496</td></tr>\n",
              "\t<tr><td>0.600257536</td><td>0.56291226</td><td>0.70116015</td></tr>\n",
              "\t<tr><td>0.161195105</td><td>1.35433764</td><td>1.04225876</td></tr>\n",
              "\t<tr><td>0.772253684</td><td>1.61915373</td><td>1.05218174</td></tr>\n",
              "\t<tr><td>0.894930157</td><td>1.96910799</td><td>1.39133204</td></tr>\n",
              "\t<tr><td>0.898210687</td><td>1.44643271</td><td>0.64414499</td></tr>\n",
              "\t<tr><td>0.963125645</td><td>0.60646965</td><td>2.00397933</td></tr>\n",
              "\t<tr><td>0.230718712</td><td>0.55393391</td><td>0.55720740</td></tr>\n",
              "\t<tr><td>0.644666692</td><td>0.58739112</td><td>2.45802862</td></tr>\n",
              "\t<tr><td>0.346340806</td><td>1.54470966</td><td>1.97646898</td></tr>\n",
              "\t<tr><td>0.295277993</td><td>0.85518780</td><td>2.71913060</td></tr>\n",
              "\t<tr><td>0.358457733</td><td>0.37167484</td><td>2.79262954</td></tr>\n",
              "\t<tr><td>0.270154186</td><td>0.50085238</td><td>1.30262757</td></tr>\n",
              "\t<tr><td>0.360866341</td><td>1.84391254</td><td>0.32195592</td></tr>\n",
              "\t<tr><td>⋮</td><td>⋮</td><td>⋮</td></tr>\n",
              "\t<tr><td>0.330990074</td><td>1.8838418</td><td>2.315233925</td></tr>\n",
              "\t<tr><td>0.356908557</td><td>0.1965211</td><td>2.792744465</td></tr>\n",
              "\t<tr><td>0.984410646</td><td>0.9130005</td><td>1.025468377</td></tr>\n",
              "\t<tr><td>0.745779051</td><td>0.5803913</td><td>0.342731492</td></tr>\n",
              "\t<tr><td>0.626327941</td><td>1.7740373</td><td>1.156830968</td></tr>\n",
              "\t<tr><td>0.819049781</td><td>1.6193471</td><td>1.096779966</td></tr>\n",
              "\t<tr><td>0.235453439</td><td>0.9946658</td><td>0.326721874</td></tr>\n",
              "\t<tr><td>0.810531077</td><td>1.3027735</td><td>0.006196781</td></tr>\n",
              "\t<tr><td>0.210348583</td><td>0.7411668</td><td>2.633345109</td></tr>\n",
              "\t<tr><td>0.547863872</td><td>1.0309162</td><td>0.840002267</td></tr>\n",
              "\t<tr><td>0.598819213</td><td>1.9402009</td><td>0.056204400</td></tr>\n",
              "\t<tr><td>0.332647696</td><td>1.3952611</td><td>1.170572220</td></tr>\n",
              "\t<tr><td>0.495530654</td><td>0.5975991</td><td>0.169851759</td></tr>\n",
              "\t<tr><td>0.951652822</td><td>0.8142676</td><td>0.855561202</td></tr>\n",
              "\t<tr><td>0.731254842</td><td>1.2789551</td><td>2.752124390</td></tr>\n",
              "\t<tr><td>0.544172611</td><td>0.6563365</td><td>2.183408362</td></tr>\n",
              "\t<tr><td>0.004317724</td><td>1.9810225</td><td>0.938508261</td></tr>\n",
              "\t<tr><td>0.720668752</td><td>1.1629097</td><td>2.063893890</td></tr>\n",
              "\t<tr><td>0.006812246</td><td>1.8954139</td><td>2.040985938</td></tr>\n",
              "\t<tr><td>0.525683049</td><td>0.1930434</td><td>0.693077539</td></tr>\n",
              "\t<tr><td>0.623499056</td><td>0.6257676</td><td>2.836581188</td></tr>\n",
              "\t<tr><td>0.261440599</td><td>0.4258858</td><td>2.866696965</td></tr>\n",
              "\t<tr><td>0.173846686</td><td>1.6208368</td><td>0.819763509</td></tr>\n",
              "\t<tr><td>0.383974979</td><td>0.6580863</td><td>0.486911056</td></tr>\n",
              "\t<tr><td>0.760142988</td><td>1.0624522</td><td>2.361944974</td></tr>\n",
              "\t<tr><td>0.075292478</td><td>0.5285231</td><td>1.357299839</td></tr>\n",
              "\t<tr><td>0.724213361</td><td>1.8606858</td><td>1.328509207</td></tr>\n",
              "\t<tr><td>0.426741732</td><td>1.2185839</td><td>2.502830851</td></tr>\n",
              "\t<tr><td>0.771521814</td><td>0.9615524</td><td>2.616087434</td></tr>\n",
              "\t<tr><td>0.029029207</td><td>1.6360041</td><td>2.116679514</td></tr>\n",
              "</tbody>\n",
              "</table>\n"
            ],
            "text/markdown": "\nA matrix: 200 × 3 of type dbl\n\n| x1 | x2 | x3 |\n|---|---|---|\n| 0.941198268 | 0.35511204 | 0.45254143 |\n| 0.814925580 | 1.38527870 | 0.27652185 |\n| 0.453266963 | 0.83678957 | 2.31972561 |\n| 0.996952858 | 1.82794465 | 0.47186478 |\n| 0.346013498 | 0.02943333 | 0.87362706 |\n| 0.922335447 | 0.51821177 | 0.37794253 |\n| 0.084155077 | 1.68719154 | 1.87151217 |\n| 0.187454387 | 1.57806332 | 2.71118174 |\n| 0.305729876 | 1.21940248 | 0.23187057 |\n| 0.505229047 | 0.31250447 | 0.39984412 |\n| 0.398368051 | 0.58074699 | 1.35231450 |\n| 0.009955995 | 0.48265694 | 0.65098569 |\n| 0.804425976 | 0.67076929 | 0.08721239 |\n| 0.682214526 | 0.88782221 | 2.24785921 |\n| 0.567459869 | 0.90493473 | 1.82298710 |\n| 0.308879547 | 1.86594087 | 0.14594234 |\n| 0.705225435 | 0.36165208 | 0.66971496 |\n| 0.600257536 | 0.56291226 | 0.70116015 |\n| 0.161195105 | 1.35433764 | 1.04225876 |\n| 0.772253684 | 1.61915373 | 1.05218174 |\n| 0.894930157 | 1.96910799 | 1.39133204 |\n| 0.898210687 | 1.44643271 | 0.64414499 |\n| 0.963125645 | 0.60646965 | 2.00397933 |\n| 0.230718712 | 0.55393391 | 0.55720740 |\n| 0.644666692 | 0.58739112 | 2.45802862 |\n| 0.346340806 | 1.54470966 | 1.97646898 |\n| 0.295277993 | 0.85518780 | 2.71913060 |\n| 0.358457733 | 0.37167484 | 2.79262954 |\n| 0.270154186 | 0.50085238 | 1.30262757 |\n| 0.360866341 | 1.84391254 | 0.32195592 |\n| ⋮ | ⋮ | ⋮ |\n| 0.330990074 | 1.8838418 | 2.315233925 |\n| 0.356908557 | 0.1965211 | 2.792744465 |\n| 0.984410646 | 0.9130005 | 1.025468377 |\n| 0.745779051 | 0.5803913 | 0.342731492 |\n| 0.626327941 | 1.7740373 | 1.156830968 |\n| 0.819049781 | 1.6193471 | 1.096779966 |\n| 0.235453439 | 0.9946658 | 0.326721874 |\n| 0.810531077 | 1.3027735 | 0.006196781 |\n| 0.210348583 | 0.7411668 | 2.633345109 |\n| 0.547863872 | 1.0309162 | 0.840002267 |\n| 0.598819213 | 1.9402009 | 0.056204400 |\n| 0.332647696 | 1.3952611 | 1.170572220 |\n| 0.495530654 | 0.5975991 | 0.169851759 |\n| 0.951652822 | 0.8142676 | 0.855561202 |\n| 0.731254842 | 1.2789551 | 2.752124390 |\n| 0.544172611 | 0.6563365 | 2.183408362 |\n| 0.004317724 | 1.9810225 | 0.938508261 |\n| 0.720668752 | 1.1629097 | 2.063893890 |\n| 0.006812246 | 1.8954139 | 2.040985938 |\n| 0.525683049 | 0.1930434 | 0.693077539 |\n| 0.623499056 | 0.6257676 | 2.836581188 |\n| 0.261440599 | 0.4258858 | 2.866696965 |\n| 0.173846686 | 1.6208368 | 0.819763509 |\n| 0.383974979 | 0.6580863 | 0.486911056 |\n| 0.760142988 | 1.0624522 | 2.361944974 |\n| 0.075292478 | 0.5285231 | 1.357299839 |\n| 0.724213361 | 1.8606858 | 1.328509207 |\n| 0.426741732 | 1.2185839 | 2.502830851 |\n| 0.771521814 | 0.9615524 | 2.616087434 |\n| 0.029029207 | 1.6360041 | 2.116679514 |\n\n",
            "text/latex": "A matrix: 200 × 3 of type dbl\n\\begin{tabular}{lll}\n x1 & x2 & x3\\\\\n\\hline\n\t 0.941198268 & 0.35511204 & 0.45254143\\\\\n\t 0.814925580 & 1.38527870 & 0.27652185\\\\\n\t 0.453266963 & 0.83678957 & 2.31972561\\\\\n\t 0.996952858 & 1.82794465 & 0.47186478\\\\\n\t 0.346013498 & 0.02943333 & 0.87362706\\\\\n\t 0.922335447 & 0.51821177 & 0.37794253\\\\\n\t 0.084155077 & 1.68719154 & 1.87151217\\\\\n\t 0.187454387 & 1.57806332 & 2.71118174\\\\\n\t 0.305729876 & 1.21940248 & 0.23187057\\\\\n\t 0.505229047 & 0.31250447 & 0.39984412\\\\\n\t 0.398368051 & 0.58074699 & 1.35231450\\\\\n\t 0.009955995 & 0.48265694 & 0.65098569\\\\\n\t 0.804425976 & 0.67076929 & 0.08721239\\\\\n\t 0.682214526 & 0.88782221 & 2.24785921\\\\\n\t 0.567459869 & 0.90493473 & 1.82298710\\\\\n\t 0.308879547 & 1.86594087 & 0.14594234\\\\\n\t 0.705225435 & 0.36165208 & 0.66971496\\\\\n\t 0.600257536 & 0.56291226 & 0.70116015\\\\\n\t 0.161195105 & 1.35433764 & 1.04225876\\\\\n\t 0.772253684 & 1.61915373 & 1.05218174\\\\\n\t 0.894930157 & 1.96910799 & 1.39133204\\\\\n\t 0.898210687 & 1.44643271 & 0.64414499\\\\\n\t 0.963125645 & 0.60646965 & 2.00397933\\\\\n\t 0.230718712 & 0.55393391 & 0.55720740\\\\\n\t 0.644666692 & 0.58739112 & 2.45802862\\\\\n\t 0.346340806 & 1.54470966 & 1.97646898\\\\\n\t 0.295277993 & 0.85518780 & 2.71913060\\\\\n\t 0.358457733 & 0.37167484 & 2.79262954\\\\\n\t 0.270154186 & 0.50085238 & 1.30262757\\\\\n\t 0.360866341 & 1.84391254 & 0.32195592\\\\\n\t ⋮ & ⋮ & ⋮\\\\\n\t 0.330990074 & 1.8838418 & 2.315233925\\\\\n\t 0.356908557 & 0.1965211 & 2.792744465\\\\\n\t 0.984410646 & 0.9130005 & 1.025468377\\\\\n\t 0.745779051 & 0.5803913 & 0.342731492\\\\\n\t 0.626327941 & 1.7740373 & 1.156830968\\\\\n\t 0.819049781 & 1.6193471 & 1.096779966\\\\\n\t 0.235453439 & 0.9946658 & 0.326721874\\\\\n\t 0.810531077 & 1.3027735 & 0.006196781\\\\\n\t 0.210348583 & 0.7411668 & 2.633345109\\\\\n\t 0.547863872 & 1.0309162 & 0.840002267\\\\\n\t 0.598819213 & 1.9402009 & 0.056204400\\\\\n\t 0.332647696 & 1.3952611 & 1.170572220\\\\\n\t 0.495530654 & 0.5975991 & 0.169851759\\\\\n\t 0.951652822 & 0.8142676 & 0.855561202\\\\\n\t 0.731254842 & 1.2789551 & 2.752124390\\\\\n\t 0.544172611 & 0.6563365 & 2.183408362\\\\\n\t 0.004317724 & 1.9810225 & 0.938508261\\\\\n\t 0.720668752 & 1.1629097 & 2.063893890\\\\\n\t 0.006812246 & 1.8954139 & 2.040985938\\\\\n\t 0.525683049 & 0.1930434 & 0.693077539\\\\\n\t 0.623499056 & 0.6257676 & 2.836581188\\\\\n\t 0.261440599 & 0.4258858 & 2.866696965\\\\\n\t 0.173846686 & 1.6208368 & 0.819763509\\\\\n\t 0.383974979 & 0.6580863 & 0.486911056\\\\\n\t 0.760142988 & 1.0624522 & 2.361944974\\\\\n\t 0.075292478 & 0.5285231 & 1.357299839\\\\\n\t 0.724213361 & 1.8606858 & 1.328509207\\\\\n\t 0.426741732 & 1.2185839 & 2.502830851\\\\\n\t 0.771521814 & 0.9615524 & 2.616087434\\\\\n\t 0.029029207 & 1.6360041 & 2.116679514\\\\\n\\end{tabular}\n",
            "text/plain": [
              "      x1          x2         x3         \n",
              " [1,] 0.941198268 0.35511204 0.45254143 \n",
              " [2,] 0.814925580 1.38527870 0.27652185 \n",
              " [3,] 0.453266963 0.83678957 2.31972561 \n",
              " [4,] 0.996952858 1.82794465 0.47186478 \n",
              " [5,] 0.346013498 0.02943333 0.87362706 \n",
              " [6,] 0.922335447 0.51821177 0.37794253 \n",
              " [7,] 0.084155077 1.68719154 1.87151217 \n",
              " [8,] 0.187454387 1.57806332 2.71118174 \n",
              " [9,] 0.305729876 1.21940248 0.23187057 \n",
              "[10,] 0.505229047 0.31250447 0.39984412 \n",
              "[11,] 0.398368051 0.58074699 1.35231450 \n",
              "[12,] 0.009955995 0.48265694 0.65098569 \n",
              "[13,] 0.804425976 0.67076929 0.08721239 \n",
              "[14,] 0.682214526 0.88782221 2.24785921 \n",
              "[15,] 0.567459869 0.90493473 1.82298710 \n",
              "[16,] 0.308879547 1.86594087 0.14594234 \n",
              "[17,] 0.705225435 0.36165208 0.66971496 \n",
              "[18,] 0.600257536 0.56291226 0.70116015 \n",
              "[19,] 0.161195105 1.35433764 1.04225876 \n",
              "[20,] 0.772253684 1.61915373 1.05218174 \n",
              "[21,] 0.894930157 1.96910799 1.39133204 \n",
              "[22,] 0.898210687 1.44643271 0.64414499 \n",
              "[23,] 0.963125645 0.60646965 2.00397933 \n",
              "[24,] 0.230718712 0.55393391 0.55720740 \n",
              "[25,] 0.644666692 0.58739112 2.45802862 \n",
              "[26,] 0.346340806 1.54470966 1.97646898 \n",
              "[27,] 0.295277993 0.85518780 2.71913060 \n",
              "[28,] 0.358457733 0.37167484 2.79262954 \n",
              "[29,] 0.270154186 0.50085238 1.30262757 \n",
              "[30,] 0.360866341 1.84391254 0.32195592 \n",
              "[31,] ⋮           ⋮          ⋮          \n",
              "[32,] 0.330990074 1.8838418  2.315233925\n",
              "[33,] 0.356908557 0.1965211  2.792744465\n",
              "[34,] 0.984410646 0.9130005  1.025468377\n",
              "[35,] 0.745779051 0.5803913  0.342731492\n",
              "[36,] 0.626327941 1.7740373  1.156830968\n",
              "[37,] 0.819049781 1.6193471  1.096779966\n",
              "[38,] 0.235453439 0.9946658  0.326721874\n",
              "[39,] 0.810531077 1.3027735  0.006196781\n",
              "[40,] 0.210348583 0.7411668  2.633345109\n",
              "[41,] 0.547863872 1.0309162  0.840002267\n",
              "[42,] 0.598819213 1.9402009  0.056204400\n",
              "[43,] 0.332647696 1.3952611  1.170572220\n",
              "[44,] 0.495530654 0.5975991  0.169851759\n",
              "[45,] 0.951652822 0.8142676  0.855561202\n",
              "[46,] 0.731254842 1.2789551  2.752124390\n",
              "[47,] 0.544172611 0.6563365  2.183408362\n",
              "[48,] 0.004317724 1.9810225  0.938508261\n",
              "[49,] 0.720668752 1.1629097  2.063893890\n",
              "[50,] 0.006812246 1.8954139  2.040985938\n",
              "[51,] 0.525683049 0.1930434  0.693077539\n",
              "[52,] 0.623499056 0.6257676  2.836581188\n",
              "[53,] 0.261440599 0.4258858  2.866696965\n",
              "[54,] 0.173846686 1.6208368  0.819763509\n",
              "[55,] 0.383974979 0.6580863  0.486911056\n",
              "[56,] 0.760142988 1.0624522  2.361944974\n",
              "[57,] 0.075292478 0.5285231  1.357299839\n",
              "[58,] 0.724213361 1.8606858  1.328509207\n",
              "[59,] 0.426741732 1.2185839  2.502830851\n",
              "[60,] 0.771521814 0.9615524  2.616087434\n",
              "[61,] 0.029029207 1.6360041  2.116679514"
            ]
          },
          "metadata": {}
        }
      ]
    },
    {
      "cell_type": "code",
      "source": [
        "numClasses = 4\n",
        "param <- list(\"objective\" = \"multi:softprob\",\n",
        "              \"eval_metric\" = \"mlogloss\",\n",
        "              \"num_class\" = numClasses)"
      ],
      "metadata": {
        "id": "W1EwCfdDZiCv"
      },
      "execution_count": 65,
      "outputs": []
    },
    {
      "cell_type": "code",
      "source": [
        "cv.nround <- 67\n",
        "cv.nfold <- 6\n",
        "set.seed(1)\n",
        "bst.cv = xgb.cv(param=param, data = xTrain, label = yTrain,\n",
        "                nfold = cv.nfold, nrounds = cv.nround,verbose=F)\n",
        "bst = xgboost(param=param, data = xTrain, label = yTrain,\n",
        "              nrounds=cv.nround,verbose=F)\n",
        "xgbPred <- matrix(predict(bst, xTest), ncol = numClasses, byrow = TRUE)\n",
        "head(xgbPred)"
      ],
      "metadata": {
        "colab": {
          "base_uri": "https://localhost:8080/",
          "height": 223
        },
        "outputId": "418587f7-256b-4055-cb07-1d3199e60f2a",
        "id": "xGqhMJF0ZiCv"
      },
      "execution_count": 112,
      "outputs": [
        {
          "output_type": "display_data",
          "data": {
            "text/html": [
              "<table class=\"dataframe\">\n",
              "<caption>A matrix: 6 × 4 of type dbl</caption>\n",
              "<tbody>\n",
              "\t<tr><td>3.467708e-02</td><td>1.482020e-03</td><td>9.597296e-01</td><td>0.0041112802</td></tr>\n",
              "\t<tr><td>1.093910e-03</td><td>2.813158e-02</td><td>2.216364e-03</td><td>0.9685580730</td></tr>\n",
              "\t<tr><td>7.206434e-04</td><td>8.526382e-04</td><td>1.287041e-01</td><td>0.8697225451</td></tr>\n",
              "\t<tr><td>4.229703e-05</td><td>9.994122e-01</td><td>6.860662e-05</td><td>0.0004768874</td></tr>\n",
              "\t<tr><td>1.004494e-03</td><td>7.143434e-01</td><td>2.244286e-03</td><td>0.2824078202</td></tr>\n",
              "\t<tr><td>9.986081e-01</td><td>8.442687e-05</td><td>1.135516e-03</td><td>0.0001720077</td></tr>\n",
              "</tbody>\n",
              "</table>\n"
            ],
            "text/markdown": "\nA matrix: 6 × 4 of type dbl\n\n| 3.467708e-02 | 1.482020e-03 | 9.597296e-01 | 0.0041112802 |\n| 1.093910e-03 | 2.813158e-02 | 2.216364e-03 | 0.9685580730 |\n| 7.206434e-04 | 8.526382e-04 | 1.287041e-01 | 0.8697225451 |\n| 4.229703e-05 | 9.994122e-01 | 6.860662e-05 | 0.0004768874 |\n| 1.004494e-03 | 7.143434e-01 | 2.244286e-03 | 0.2824078202 |\n| 9.986081e-01 | 8.442687e-05 | 1.135516e-03 | 0.0001720077 |\n\n",
            "text/latex": "A matrix: 6 × 4 of type dbl\n\\begin{tabular}{llll}\n\t 3.467708e-02 & 1.482020e-03 & 9.597296e-01 & 0.0041112802\\\\\n\t 1.093910e-03 & 2.813158e-02 & 2.216364e-03 & 0.9685580730\\\\\n\t 7.206434e-04 & 8.526382e-04 & 1.287041e-01 & 0.8697225451\\\\\n\t 4.229703e-05 & 9.994122e-01 & 6.860662e-05 & 0.0004768874\\\\\n\t 1.004494e-03 & 7.143434e-01 & 2.244286e-03 & 0.2824078202\\\\\n\t 9.986081e-01 & 8.442687e-05 & 1.135516e-03 & 0.0001720077\\\\\n\\end{tabular}\n",
            "text/plain": [
              "     [,1]         [,2]         [,3]         [,4]        \n",
              "[1,] 3.467708e-02 1.482020e-03 9.597296e-01 0.0041112802\n",
              "[2,] 1.093910e-03 2.813158e-02 2.216364e-03 0.9685580730\n",
              "[3,] 7.206434e-04 8.526382e-04 1.287041e-01 0.8697225451\n",
              "[4,] 4.229703e-05 9.994122e-01 6.860662e-05 0.0004768874\n",
              "[5,] 1.004494e-03 7.143434e-01 2.244286e-03 0.2824078202\n",
              "[6,] 9.986081e-01 8.442687e-05 1.135516e-03 0.0001720077"
            ]
          },
          "metadata": {}
        }
      ]
    },
    {
      "cell_type": "code",
      "source": [
        "xgbPredTestNum = argmax(xgbPred)\n",
        "xgbPredTest = c()\n",
        "for(i in 1:length(xgbPredTestNum)) {\n",
        "    if (xgbPredTestNum[i] == 1) {\n",
        "        xgbPredTest[i] <- 'A'\n",
        "    } else {\n",
        "        if (xgbPredTestNum[i] == 2) {\n",
        "            xgbPredTest[i] <- 'B'\n",
        "        } else {\n",
        "            if (xgbPredTestNum[i] == 3) {\n",
        "                xgbPredTest[i] <- 'C'\n",
        "            } else {\n",
        "                xgbPredTest[i] <- 'D'\n",
        "            }\n",
        "        }\n",
        "    }\n",
        "}\n",
        "xgbPredTest"
      ],
      "metadata": {
        "colab": {
          "base_uri": "https://localhost:8080/",
          "height": 52
        },
        "outputId": "062b46b4-b596-445a-ba81-1e0bd86eb40a",
        "id": "1pf2EoycZiCw"
      },
      "execution_count": 113,
      "outputs": [
        {
          "output_type": "display_data",
          "data": {
            "text/html": [
              "<style>\n",
              ".list-inline {list-style: none; margin:0; padding: 0}\n",
              ".list-inline>li {display: inline-block}\n",
              ".list-inline>li:not(:last-child)::after {content: \"\\00b7\"; padding: 0 .5ex}\n",
              "</style>\n",
              "<ol class=list-inline><li>'C'</li><li>'D'</li><li>'D'</li><li>'B'</li><li>'B'</li><li>'A'</li><li>'A'</li><li>'D'</li><li>'B'</li><li>'C'</li><li>'D'</li><li>'A'</li><li>'B'</li><li>'C'</li><li>'D'</li><li>'C'</li><li>'D'</li><li>'C'</li><li>'D'</li><li>'C'</li><li>'B'</li><li>'C'</li><li>'C'</li><li>'A'</li><li>'C'</li><li>'A'</li><li>'D'</li><li>'D'</li><li>'D'</li><li>'C'</li><li>'D'</li><li>'D'</li><li>'D'</li><li>'A'</li><li>'B'</li><li>'D'</li><li>'D'</li><li>'A'</li><li>'A'</li><li>'D'</li><li>'A'</li><li>'D'</li><li>'C'</li><li>'D'</li><li>'B'</li><li>'C'</li><li>'D'</li><li>'B'</li><li>'D'</li><li>'A'</li><li>'B'</li><li>'A'</li><li>'C'</li><li>'C'</li><li>'D'</li><li>'D'</li><li>'D'</li><li>'C'</li><li>'B'</li><li>'B'</li><li>'A'</li><li>'A'</li><li>'A'</li><li>'D'</li><li>'C'</li><li>'C'</li><li>'A'</li><li>'D'</li><li>'C'</li><li>'D'</li><li>'C'</li><li>'C'</li><li>'B'</li><li>'C'</li><li>'D'</li><li>'D'</li><li>'C'</li><li>'C'</li><li>'D'</li><li>'B'</li><li>'D'</li><li>'C'</li><li>'C'</li><li>'D'</li><li>'D'</li><li>'C'</li><li>'C'</li><li>'A'</li><li>'D'</li><li>'A'</li><li>'C'</li><li>'B'</li><li>'B'</li><li>'D'</li><li>'C'</li><li>'A'</li><li>'A'</li><li>'C'</li><li>'A'</li><li>'B'</li></ol>\n"
            ],
            "text/markdown": "1. 'C'\n2. 'D'\n3. 'D'\n4. 'B'\n5. 'B'\n6. 'A'\n7. 'A'\n8. 'D'\n9. 'B'\n10. 'C'\n11. 'D'\n12. 'A'\n13. 'B'\n14. 'C'\n15. 'D'\n16. 'C'\n17. 'D'\n18. 'C'\n19. 'D'\n20. 'C'\n21. 'B'\n22. 'C'\n23. 'C'\n24. 'A'\n25. 'C'\n26. 'A'\n27. 'D'\n28. 'D'\n29. 'D'\n30. 'C'\n31. 'D'\n32. 'D'\n33. 'D'\n34. 'A'\n35. 'B'\n36. 'D'\n37. 'D'\n38. 'A'\n39. 'A'\n40. 'D'\n41. 'A'\n42. 'D'\n43. 'C'\n44. 'D'\n45. 'B'\n46. 'C'\n47. 'D'\n48. 'B'\n49. 'D'\n50. 'A'\n51. 'B'\n52. 'A'\n53. 'C'\n54. 'C'\n55. 'D'\n56. 'D'\n57. 'D'\n58. 'C'\n59. 'B'\n60. 'B'\n61. 'A'\n62. 'A'\n63. 'A'\n64. 'D'\n65. 'C'\n66. 'C'\n67. 'A'\n68. 'D'\n69. 'C'\n70. 'D'\n71. 'C'\n72. 'C'\n73. 'B'\n74. 'C'\n75. 'D'\n76. 'D'\n77. 'C'\n78. 'C'\n79. 'D'\n80. 'B'\n81. 'D'\n82. 'C'\n83. 'C'\n84. 'D'\n85. 'D'\n86. 'C'\n87. 'C'\n88. 'A'\n89. 'D'\n90. 'A'\n91. 'C'\n92. 'B'\n93. 'B'\n94. 'D'\n95. 'C'\n96. 'A'\n97. 'A'\n98. 'C'\n99. 'A'\n100. 'B'\n\n\n",
            "text/latex": "\\begin{enumerate*}\n\\item 'C'\n\\item 'D'\n\\item 'D'\n\\item 'B'\n\\item 'B'\n\\item 'A'\n\\item 'A'\n\\item 'D'\n\\item 'B'\n\\item 'C'\n\\item 'D'\n\\item 'A'\n\\item 'B'\n\\item 'C'\n\\item 'D'\n\\item 'C'\n\\item 'D'\n\\item 'C'\n\\item 'D'\n\\item 'C'\n\\item 'B'\n\\item 'C'\n\\item 'C'\n\\item 'A'\n\\item 'C'\n\\item 'A'\n\\item 'D'\n\\item 'D'\n\\item 'D'\n\\item 'C'\n\\item 'D'\n\\item 'D'\n\\item 'D'\n\\item 'A'\n\\item 'B'\n\\item 'D'\n\\item 'D'\n\\item 'A'\n\\item 'A'\n\\item 'D'\n\\item 'A'\n\\item 'D'\n\\item 'C'\n\\item 'D'\n\\item 'B'\n\\item 'C'\n\\item 'D'\n\\item 'B'\n\\item 'D'\n\\item 'A'\n\\item 'B'\n\\item 'A'\n\\item 'C'\n\\item 'C'\n\\item 'D'\n\\item 'D'\n\\item 'D'\n\\item 'C'\n\\item 'B'\n\\item 'B'\n\\item 'A'\n\\item 'A'\n\\item 'A'\n\\item 'D'\n\\item 'C'\n\\item 'C'\n\\item 'A'\n\\item 'D'\n\\item 'C'\n\\item 'D'\n\\item 'C'\n\\item 'C'\n\\item 'B'\n\\item 'C'\n\\item 'D'\n\\item 'D'\n\\item 'C'\n\\item 'C'\n\\item 'D'\n\\item 'B'\n\\item 'D'\n\\item 'C'\n\\item 'C'\n\\item 'D'\n\\item 'D'\n\\item 'C'\n\\item 'C'\n\\item 'A'\n\\item 'D'\n\\item 'A'\n\\item 'C'\n\\item 'B'\n\\item 'B'\n\\item 'D'\n\\item 'C'\n\\item 'A'\n\\item 'A'\n\\item 'C'\n\\item 'A'\n\\item 'B'\n\\end{enumerate*}\n",
            "text/plain": [
              "  [1] \"C\" \"D\" \"D\" \"B\" \"B\" \"A\" \"A\" \"D\" \"B\" \"C\" \"D\" \"A\" \"B\" \"C\" \"D\" \"C\" \"D\" \"C\"\n",
              " [19] \"D\" \"C\" \"B\" \"C\" \"C\" \"A\" \"C\" \"A\" \"D\" \"D\" \"D\" \"C\" \"D\" \"D\" \"D\" \"A\" \"B\" \"D\"\n",
              " [37] \"D\" \"A\" \"A\" \"D\" \"A\" \"D\" \"C\" \"D\" \"B\" \"C\" \"D\" \"B\" \"D\" \"A\" \"B\" \"A\" \"C\" \"C\"\n",
              " [55] \"D\" \"D\" \"D\" \"C\" \"B\" \"B\" \"A\" \"A\" \"A\" \"D\" \"C\" \"C\" \"A\" \"D\" \"C\" \"D\" \"C\" \"C\"\n",
              " [73] \"B\" \"C\" \"D\" \"D\" \"C\" \"C\" \"D\" \"B\" \"D\" \"C\" \"C\" \"D\" \"D\" \"C\" \"C\" \"A\" \"D\" \"A\"\n",
              " [91] \"C\" \"B\" \"B\" \"D\" \"C\" \"A\" \"A\" \"C\" \"A\" \"B\""
            ]
          },
          "metadata": {}
        }
      ]
    },
    {
      "cell_type": "code",
      "source": [
        "write.csv(xgbPredTest, 'result.csv', row.names = FALSE)"
      ],
      "metadata": {
        "id": "CCQmOlneaQoR"
      },
      "execution_count": 114,
      "outputs": []
    }
  ]
}