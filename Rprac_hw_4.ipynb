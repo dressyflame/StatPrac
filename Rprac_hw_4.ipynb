{
  "nbformat": 4,
  "nbformat_minor": 0,
  "metadata": {
    "colab": {
      "provenance": []
    },
    "kernelspec": {
      "name": "python3",
      "display_name": "Python 3"
    },
    "language_info": {
      "name": "python"
    }
  },
  "cells": [
    {
      "cell_type": "code",
      "source": [
        "train <-read.table('var_16_train.csv',header=T,sep= ',')\n",
        "head(train)\n",
        "test <-read.table('var_16_test.csv',header=T,sep= ',')\n",
        "head(test)"
      ],
      "metadata": {
        "id": "F4q6fdamWiYa",
        "colab": {
          "base_uri": "https://localhost:8080/",
          "height": 575
        },
        "outputId": "d1b7dae5-a37d-4bfa-e8e0-907c4ef6afa5"
      },
      "execution_count": null,
      "outputs": [
        {
          "output_type": "display_data",
          "data": {
            "text/html": [
              "<table class=\"dataframe\">\n",
              "<caption>A data.frame: 6 × 16</caption>\n",
              "<thead>\n",
              "\t<tr><th></th><th scope=col>output</th><th scope=col>x1</th><th scope=col>x2</th><th scope=col>x3</th><th scope=col>x4</th><th scope=col>x5</th><th scope=col>x6</th><th scope=col>x7</th><th scope=col>x8</th><th scope=col>x9</th><th scope=col>x10</th><th scope=col>x11</th><th scope=col>x12</th><th scope=col>x13</th><th scope=col>x14</th><th scope=col>x15</th></tr>\n",
              "\t<tr><th></th><th scope=col>&lt;int&gt;</th><th scope=col>&lt;dbl&gt;</th><th scope=col>&lt;dbl&gt;</th><th scope=col>&lt;dbl&gt;</th><th scope=col>&lt;dbl&gt;</th><th scope=col>&lt;dbl&gt;</th><th scope=col>&lt;dbl&gt;</th><th scope=col>&lt;dbl&gt;</th><th scope=col>&lt;dbl&gt;</th><th scope=col>&lt;dbl&gt;</th><th scope=col>&lt;dbl&gt;</th><th scope=col>&lt;dbl&gt;</th><th scope=col>&lt;dbl&gt;</th><th scope=col>&lt;dbl&gt;</th><th scope=col>&lt;dbl&gt;</th><th scope=col>&lt;dbl&gt;</th></tr>\n",
              "</thead>\n",
              "<tbody>\n",
              "\t<tr><th scope=row>1</th><td>0</td><td> 0.4130039</td><td> 2.3389629</td><td>-1.0228985</td><td> 1.6800147</td><td> 0.3330858</td><td>-1.5951618</td><td>-0.8723717</td><td>-1.271159</td><td> 0.9049313</td><td> 3.2506294</td><td> 1.662129</td><td> 0.42028266</td><td>-3.0975961</td><td> 2.5485835</td><td>-0.5724106</td></tr>\n",
              "\t<tr><th scope=row>2</th><td>1</td><td> 0.2348170</td><td>-1.0472345</td><td>-1.2568683</td><td>-1.8427610</td><td> 2.2747112</td><td>-1.7018152</td><td> 2.4156967</td><td> 1.422888</td><td>-1.5974338</td><td>-1.5064839</td><td> 1.272332</td><td> 0.01077745</td><td>-2.3915825</td><td> 0.5215893</td><td> 1.7249508</td></tr>\n",
              "\t<tr><th scope=row>3</th><td>0</td><td>-0.3505936</td><td>-0.4808900</td><td>-0.9514724</td><td>-1.4423602</td><td>-0.8506501</td><td> 2.8767667</td><td> 3.4775347</td><td>-1.159152</td><td>-4.8679758</td><td> 0.5179583</td><td> 1.481870</td><td> 0.76201142</td><td>-4.2194585</td><td>-3.3968882</td><td> 4.8365172</td></tr>\n",
              "\t<tr><th scope=row>4</th><td>0</td><td>-0.6300658</td><td> 0.1833483</td><td>-0.6369215</td><td>-0.2826551</td><td> 1.9709164</td><td>-1.8462300</td><td>-0.6167998</td><td>-3.109369</td><td>-1.4640166</td><td> 0.2598521</td><td>-3.014214</td><td>-1.83776465</td><td>-1.8291390</td><td>-2.2732103</td><td> 0.6257841</td></tr>\n",
              "\t<tr><th scope=row>5</th><td>0</td><td> 0.1407563</td><td> 1.8378323</td><td> 0.1981135</td><td> 0.1472880</td><td> 0.2715700</td><td> 2.0229530</td><td>-3.8276739</td><td>-2.165196</td><td> 2.6266942</td><td>-0.5313180</td><td>-3.850825</td><td> 1.16105122</td><td> 0.7332955</td><td> 2.0949037</td><td> 3.4872349</td></tr>\n",
              "\t<tr><th scope=row>6</th><td>1</td><td> 0.3240831</td><td>-0.7215967</td><td> 0.6828467</td><td>-0.1421998</td><td>-0.1917730</td><td>-0.6467724</td><td> 4.1557926</td><td> 1.131242</td><td>-3.7938512</td><td> 1.0848600</td><td>-3.159705</td><td> 0.13635073</td><td>-0.5223906</td><td>-1.1354441</td><td>-4.3348542</td></tr>\n",
              "</tbody>\n",
              "</table>\n"
            ],
            "text/markdown": "\nA data.frame: 6 × 16\n\n| <!--/--> | output &lt;int&gt; | x1 &lt;dbl&gt; | x2 &lt;dbl&gt; | x3 &lt;dbl&gt; | x4 &lt;dbl&gt; | x5 &lt;dbl&gt; | x6 &lt;dbl&gt; | x7 &lt;dbl&gt; | x8 &lt;dbl&gt; | x9 &lt;dbl&gt; | x10 &lt;dbl&gt; | x11 &lt;dbl&gt; | x12 &lt;dbl&gt; | x13 &lt;dbl&gt; | x14 &lt;dbl&gt; | x15 &lt;dbl&gt; |\n|---|---|---|---|---|---|---|---|---|---|---|---|---|---|---|---|---|\n| 1 | 0 |  0.4130039 |  2.3389629 | -1.0228985 |  1.6800147 |  0.3330858 | -1.5951618 | -0.8723717 | -1.271159 |  0.9049313 |  3.2506294 |  1.662129 |  0.42028266 | -3.0975961 |  2.5485835 | -0.5724106 |\n| 2 | 1 |  0.2348170 | -1.0472345 | -1.2568683 | -1.8427610 |  2.2747112 | -1.7018152 |  2.4156967 |  1.422888 | -1.5974338 | -1.5064839 |  1.272332 |  0.01077745 | -2.3915825 |  0.5215893 |  1.7249508 |\n| 3 | 0 | -0.3505936 | -0.4808900 | -0.9514724 | -1.4423602 | -0.8506501 |  2.8767667 |  3.4775347 | -1.159152 | -4.8679758 |  0.5179583 |  1.481870 |  0.76201142 | -4.2194585 | -3.3968882 |  4.8365172 |\n| 4 | 0 | -0.6300658 |  0.1833483 | -0.6369215 | -0.2826551 |  1.9709164 | -1.8462300 | -0.6167998 | -3.109369 | -1.4640166 |  0.2598521 | -3.014214 | -1.83776465 | -1.8291390 | -2.2732103 |  0.6257841 |\n| 5 | 0 |  0.1407563 |  1.8378323 |  0.1981135 |  0.1472880 |  0.2715700 |  2.0229530 | -3.8276739 | -2.165196 |  2.6266942 | -0.5313180 | -3.850825 |  1.16105122 |  0.7332955 |  2.0949037 |  3.4872349 |\n| 6 | 1 |  0.3240831 | -0.7215967 |  0.6828467 | -0.1421998 | -0.1917730 | -0.6467724 |  4.1557926 |  1.131242 | -3.7938512 |  1.0848600 | -3.159705 |  0.13635073 | -0.5223906 | -1.1354441 | -4.3348542 |\n\n",
            "text/latex": "A data.frame: 6 × 16\n\\begin{tabular}{r|llllllllllllllll}\n  & output & x1 & x2 & x3 & x4 & x5 & x6 & x7 & x8 & x9 & x10 & x11 & x12 & x13 & x14 & x15\\\\\n  & <int> & <dbl> & <dbl> & <dbl> & <dbl> & <dbl> & <dbl> & <dbl> & <dbl> & <dbl> & <dbl> & <dbl> & <dbl> & <dbl> & <dbl> & <dbl>\\\\\n\\hline\n\t1 & 0 &  0.4130039 &  2.3389629 & -1.0228985 &  1.6800147 &  0.3330858 & -1.5951618 & -0.8723717 & -1.271159 &  0.9049313 &  3.2506294 &  1.662129 &  0.42028266 & -3.0975961 &  2.5485835 & -0.5724106\\\\\n\t2 & 1 &  0.2348170 & -1.0472345 & -1.2568683 & -1.8427610 &  2.2747112 & -1.7018152 &  2.4156967 &  1.422888 & -1.5974338 & -1.5064839 &  1.272332 &  0.01077745 & -2.3915825 &  0.5215893 &  1.7249508\\\\\n\t3 & 0 & -0.3505936 & -0.4808900 & -0.9514724 & -1.4423602 & -0.8506501 &  2.8767667 &  3.4775347 & -1.159152 & -4.8679758 &  0.5179583 &  1.481870 &  0.76201142 & -4.2194585 & -3.3968882 &  4.8365172\\\\\n\t4 & 0 & -0.6300658 &  0.1833483 & -0.6369215 & -0.2826551 &  1.9709164 & -1.8462300 & -0.6167998 & -3.109369 & -1.4640166 &  0.2598521 & -3.014214 & -1.83776465 & -1.8291390 & -2.2732103 &  0.6257841\\\\\n\t5 & 0 &  0.1407563 &  1.8378323 &  0.1981135 &  0.1472880 &  0.2715700 &  2.0229530 & -3.8276739 & -2.165196 &  2.6266942 & -0.5313180 & -3.850825 &  1.16105122 &  0.7332955 &  2.0949037 &  3.4872349\\\\\n\t6 & 1 &  0.3240831 & -0.7215967 &  0.6828467 & -0.1421998 & -0.1917730 & -0.6467724 &  4.1557926 &  1.131242 & -3.7938512 &  1.0848600 & -3.159705 &  0.13635073 & -0.5223906 & -1.1354441 & -4.3348542\\\\\n\\end{tabular}\n",
            "text/plain": [
              "  output x1         x2         x3         x4         x5         x6        \n",
              "1 0       0.4130039  2.3389629 -1.0228985  1.6800147  0.3330858 -1.5951618\n",
              "2 1       0.2348170 -1.0472345 -1.2568683 -1.8427610  2.2747112 -1.7018152\n",
              "3 0      -0.3505936 -0.4808900 -0.9514724 -1.4423602 -0.8506501  2.8767667\n",
              "4 0      -0.6300658  0.1833483 -0.6369215 -0.2826551  1.9709164 -1.8462300\n",
              "5 0       0.1407563  1.8378323  0.1981135  0.1472880  0.2715700  2.0229530\n",
              "6 1       0.3240831 -0.7215967  0.6828467 -0.1421998 -0.1917730 -0.6467724\n",
              "  x7         x8        x9         x10        x11       x12         x13       \n",
              "1 -0.8723717 -1.271159  0.9049313  3.2506294  1.662129  0.42028266 -3.0975961\n",
              "2  2.4156967  1.422888 -1.5974338 -1.5064839  1.272332  0.01077745 -2.3915825\n",
              "3  3.4775347 -1.159152 -4.8679758  0.5179583  1.481870  0.76201142 -4.2194585\n",
              "4 -0.6167998 -3.109369 -1.4640166  0.2598521 -3.014214 -1.83776465 -1.8291390\n",
              "5 -3.8276739 -2.165196  2.6266942 -0.5313180 -3.850825  1.16105122  0.7332955\n",
              "6  4.1557926  1.131242 -3.7938512  1.0848600 -3.159705  0.13635073 -0.5223906\n",
              "  x14        x15       \n",
              "1  2.5485835 -0.5724106\n",
              "2  0.5215893  1.7249508\n",
              "3 -3.3968882  4.8365172\n",
              "4 -2.2732103  0.6257841\n",
              "5  2.0949037  3.4872349\n",
              "6 -1.1354441 -4.3348542"
            ]
          },
          "metadata": {}
        },
        {
          "output_type": "display_data",
          "data": {
            "text/html": [
              "<table class=\"dataframe\">\n",
              "<caption>A data.frame: 6 × 15</caption>\n",
              "<thead>\n",
              "\t<tr><th></th><th scope=col>x1</th><th scope=col>x2</th><th scope=col>x3</th><th scope=col>x4</th><th scope=col>x5</th><th scope=col>x6</th><th scope=col>x7</th><th scope=col>x8</th><th scope=col>x9</th><th scope=col>x10</th><th scope=col>x11</th><th scope=col>x12</th><th scope=col>x13</th><th scope=col>x14</th><th scope=col>x15</th></tr>\n",
              "\t<tr><th></th><th scope=col>&lt;dbl&gt;</th><th scope=col>&lt;dbl&gt;</th><th scope=col>&lt;dbl&gt;</th><th scope=col>&lt;dbl&gt;</th><th scope=col>&lt;dbl&gt;</th><th scope=col>&lt;dbl&gt;</th><th scope=col>&lt;dbl&gt;</th><th scope=col>&lt;dbl&gt;</th><th scope=col>&lt;dbl&gt;</th><th scope=col>&lt;dbl&gt;</th><th scope=col>&lt;dbl&gt;</th><th scope=col>&lt;dbl&gt;</th><th scope=col>&lt;dbl&gt;</th><th scope=col>&lt;dbl&gt;</th><th scope=col>&lt;dbl&gt;</th></tr>\n",
              "</thead>\n",
              "<tbody>\n",
              "\t<tr><th scope=row>1</th><td>-1.17927377</td><td>-0.1084826</td><td>-1.2496711</td><td>-1.0626612</td><td> 1.0734474</td><td> 2.6974697</td><td>-0.5505010</td><td>-1.2590580</td><td>-1.1299660</td><td>-1.8814498</td><td> 2.874004</td><td> 3.412351</td><td>-1.4160161</td><td>-0.4213043</td><td>-0.3720341</td></tr>\n",
              "\t<tr><th scope=row>2</th><td>-1.60166659</td><td>-0.7349486</td><td>-0.1227525</td><td>-1.3023926</td><td> 1.1667688</td><td>-1.9356548</td><td>-1.0314955</td><td>-0.9938227</td><td>-0.7990213</td><td> 1.0699681</td><td>-2.784433</td><td> 1.906343</td><td>-3.2675765</td><td>-3.4587862</td><td> 0.6211097</td></tr>\n",
              "\t<tr><th scope=row>3</th><td> 0.19004645</td><td>-0.2631175</td><td> 1.2397448</td><td> 1.6173224</td><td>-1.6597386</td><td> 0.8638746</td><td> 0.9443635</td><td>-1.1935976</td><td> 2.3982735</td><td> 0.7131462</td><td>-3.690933</td><td>-3.187238</td><td>-0.9660679</td><td>-2.2793079</td><td> 1.4411296</td></tr>\n",
              "\t<tr><th scope=row>4</th><td> 1.22609287</td><td> 1.7277538</td><td> 0.1077499</td><td>-0.4516555</td><td> 1.5016407</td><td> 1.4212071</td><td>-2.1625919</td><td> 0.3303740</td><td> 0.6464914</td><td> 0.5745491</td><td>-2.595004</td><td> 5.819000</td><td>-6.0796136</td><td>-1.2939821</td><td> 0.4256282</td></tr>\n",
              "\t<tr><th scope=row>5</th><td>-0.90948416</td><td> 0.3514988</td><td>-0.5860667</td><td>-0.7730285</td><td>-1.5567199</td><td>-1.9356216</td><td> 0.3682269</td><td>-0.9624035</td><td> 2.8265303</td><td> 2.0733725</td><td> 3.135231</td><td>-2.367255</td><td>-0.5405397</td><td> 0.8522784</td><td> 3.1791289</td></tr>\n",
              "\t<tr><th scope=row>6</th><td>-0.02577422</td><td>-0.9015478</td><td>-3.6736841</td><td> 0.1384944</td><td>-0.8462561</td><td>-1.0651586</td><td>-0.4060602</td><td>-1.9708772</td><td> 2.4810186</td><td>-0.5018267</td><td>-4.778218</td><td> 3.728421</td><td>-0.2938013</td><td>-3.7209107</td><td> 3.3638215</td></tr>\n",
              "</tbody>\n",
              "</table>\n"
            ],
            "text/markdown": "\nA data.frame: 6 × 15\n\n| <!--/--> | x1 &lt;dbl&gt; | x2 &lt;dbl&gt; | x3 &lt;dbl&gt; | x4 &lt;dbl&gt; | x5 &lt;dbl&gt; | x6 &lt;dbl&gt; | x7 &lt;dbl&gt; | x8 &lt;dbl&gt; | x9 &lt;dbl&gt; | x10 &lt;dbl&gt; | x11 &lt;dbl&gt; | x12 &lt;dbl&gt; | x13 &lt;dbl&gt; | x14 &lt;dbl&gt; | x15 &lt;dbl&gt; |\n|---|---|---|---|---|---|---|---|---|---|---|---|---|---|---|---|\n| 1 | -1.17927377 | -0.1084826 | -1.2496711 | -1.0626612 |  1.0734474 |  2.6974697 | -0.5505010 | -1.2590580 | -1.1299660 | -1.8814498 |  2.874004 |  3.412351 | -1.4160161 | -0.4213043 | -0.3720341 |\n| 2 | -1.60166659 | -0.7349486 | -0.1227525 | -1.3023926 |  1.1667688 | -1.9356548 | -1.0314955 | -0.9938227 | -0.7990213 |  1.0699681 | -2.784433 |  1.906343 | -3.2675765 | -3.4587862 |  0.6211097 |\n| 3 |  0.19004645 | -0.2631175 |  1.2397448 |  1.6173224 | -1.6597386 |  0.8638746 |  0.9443635 | -1.1935976 |  2.3982735 |  0.7131462 | -3.690933 | -3.187238 | -0.9660679 | -2.2793079 |  1.4411296 |\n| 4 |  1.22609287 |  1.7277538 |  0.1077499 | -0.4516555 |  1.5016407 |  1.4212071 | -2.1625919 |  0.3303740 |  0.6464914 |  0.5745491 | -2.595004 |  5.819000 | -6.0796136 | -1.2939821 |  0.4256282 |\n| 5 | -0.90948416 |  0.3514988 | -0.5860667 | -0.7730285 | -1.5567199 | -1.9356216 |  0.3682269 | -0.9624035 |  2.8265303 |  2.0733725 |  3.135231 | -2.367255 | -0.5405397 |  0.8522784 |  3.1791289 |\n| 6 | -0.02577422 | -0.9015478 | -3.6736841 |  0.1384944 | -0.8462561 | -1.0651586 | -0.4060602 | -1.9708772 |  2.4810186 | -0.5018267 | -4.778218 |  3.728421 | -0.2938013 | -3.7209107 |  3.3638215 |\n\n",
            "text/latex": "A data.frame: 6 × 15\n\\begin{tabular}{r|lllllllllllllll}\n  & x1 & x2 & x3 & x4 & x5 & x6 & x7 & x8 & x9 & x10 & x11 & x12 & x13 & x14 & x15\\\\\n  & <dbl> & <dbl> & <dbl> & <dbl> & <dbl> & <dbl> & <dbl> & <dbl> & <dbl> & <dbl> & <dbl> & <dbl> & <dbl> & <dbl> & <dbl>\\\\\n\\hline\n\t1 & -1.17927377 & -0.1084826 & -1.2496711 & -1.0626612 &  1.0734474 &  2.6974697 & -0.5505010 & -1.2590580 & -1.1299660 & -1.8814498 &  2.874004 &  3.412351 & -1.4160161 & -0.4213043 & -0.3720341\\\\\n\t2 & -1.60166659 & -0.7349486 & -0.1227525 & -1.3023926 &  1.1667688 & -1.9356548 & -1.0314955 & -0.9938227 & -0.7990213 &  1.0699681 & -2.784433 &  1.906343 & -3.2675765 & -3.4587862 &  0.6211097\\\\\n\t3 &  0.19004645 & -0.2631175 &  1.2397448 &  1.6173224 & -1.6597386 &  0.8638746 &  0.9443635 & -1.1935976 &  2.3982735 &  0.7131462 & -3.690933 & -3.187238 & -0.9660679 & -2.2793079 &  1.4411296\\\\\n\t4 &  1.22609287 &  1.7277538 &  0.1077499 & -0.4516555 &  1.5016407 &  1.4212071 & -2.1625919 &  0.3303740 &  0.6464914 &  0.5745491 & -2.595004 &  5.819000 & -6.0796136 & -1.2939821 &  0.4256282\\\\\n\t5 & -0.90948416 &  0.3514988 & -0.5860667 & -0.7730285 & -1.5567199 & -1.9356216 &  0.3682269 & -0.9624035 &  2.8265303 &  2.0733725 &  3.135231 & -2.367255 & -0.5405397 &  0.8522784 &  3.1791289\\\\\n\t6 & -0.02577422 & -0.9015478 & -3.6736841 &  0.1384944 & -0.8462561 & -1.0651586 & -0.4060602 & -1.9708772 &  2.4810186 & -0.5018267 & -4.778218 &  3.728421 & -0.2938013 & -3.7209107 &  3.3638215\\\\\n\\end{tabular}\n",
            "text/plain": [
              "  x1          x2         x3         x4         x5         x6         x7        \n",
              "1 -1.17927377 -0.1084826 -1.2496711 -1.0626612  1.0734474  2.6974697 -0.5505010\n",
              "2 -1.60166659 -0.7349486 -0.1227525 -1.3023926  1.1667688 -1.9356548 -1.0314955\n",
              "3  0.19004645 -0.2631175  1.2397448  1.6173224 -1.6597386  0.8638746  0.9443635\n",
              "4  1.22609287  1.7277538  0.1077499 -0.4516555  1.5016407  1.4212071 -2.1625919\n",
              "5 -0.90948416  0.3514988 -0.5860667 -0.7730285 -1.5567199 -1.9356216  0.3682269\n",
              "6 -0.02577422 -0.9015478 -3.6736841  0.1384944 -0.8462561 -1.0651586 -0.4060602\n",
              "  x8         x9         x10        x11       x12       x13        x14       \n",
              "1 -1.2590580 -1.1299660 -1.8814498  2.874004  3.412351 -1.4160161 -0.4213043\n",
              "2 -0.9938227 -0.7990213  1.0699681 -2.784433  1.906343 -3.2675765 -3.4587862\n",
              "3 -1.1935976  2.3982735  0.7131462 -3.690933 -3.187238 -0.9660679 -2.2793079\n",
              "4  0.3303740  0.6464914  0.5745491 -2.595004  5.819000 -6.0796136 -1.2939821\n",
              "5 -0.9624035  2.8265303  2.0733725  3.135231 -2.367255 -0.5405397  0.8522784\n",
              "6 -1.9708772  2.4810186 -0.5018267 -4.778218  3.728421 -0.2938013 -3.7209107\n",
              "  x15       \n",
              "1 -0.3720341\n",
              "2  0.6211097\n",
              "3  1.4411296\n",
              "4  0.4256282\n",
              "5  3.1791289\n",
              "6  3.3638215"
            ]
          },
          "metadata": {}
        }
      ]
    },
    {
      "cell_type": "code",
      "source": [
        "\n",
        "m<-glm(train$output~.,data=train,family=gaussian())\n",
        "summary(m)"
      ],
      "metadata": {
        "colab": {
          "base_uri": "https://localhost:8080/",
          "height": 596
        },
        "id": "sjVZZ6yMWrKW",
        "outputId": "9091df77-271d-4124-e264-d3208d2b1b8e"
      },
      "execution_count": null,
      "outputs": [
        {
          "output_type": "display_data",
          "data": {
            "text/plain": [
              "\n",
              "Call:\n",
              "glm(formula = train$output ~ ., family = gaussian(), data = train)\n",
              "\n",
              "Coefficients:\n",
              "             Estimate Std. Error t value Pr(>|t|)    \n",
              "(Intercept)  0.461798   0.023197  19.908  < 2e-16 ***\n",
              "x1           0.044275   0.023309   1.900   0.0591 .  \n",
              "x2           0.020766   0.020686   1.004   0.3168    \n",
              "x3           0.087020   0.019846   4.385 1.95e-05 ***\n",
              "x4          -0.013743   0.016013  -0.858   0.3919    \n",
              "x5           0.027467   0.016502   1.664   0.0977 .  \n",
              "x6          -0.010396   0.014167  -0.734   0.4640    \n",
              "x7           0.051138   0.012394   4.126 5.58e-05 ***\n",
              "x8           0.126747   0.012686   9.991  < 2e-16 ***\n",
              "x9          -0.003060   0.011584  -0.264   0.7919    \n",
              "x10          0.072313   0.010555   6.851 1.07e-10 ***\n",
              "x11          0.002295   0.010564   0.217   0.8282    \n",
              "x12          0.022891   0.009028   2.536   0.0121 *  \n",
              "x13          0.061425   0.009346   6.572 4.95e-10 ***\n",
              "x14          0.006372   0.008401   0.759   0.4491    \n",
              "x15          0.049071   0.008188   5.993 1.06e-08 ***\n",
              "---\n",
              "Signif. codes:  0 ‘***’ 0.001 ‘**’ 0.01 ‘*’ 0.05 ‘.’ 0.1 ‘ ’ 1\n",
              "\n",
              "(Dispersion parameter for gaussian family taken to be 0.10216)\n",
              "\n",
              "    Null deviance: 49.595  on 199  degrees of freedom\n",
              "Residual deviance: 18.797  on 184  degrees of freedom\n",
              "AIC: 128.66\n",
              "\n",
              "Number of Fisher Scoring iterations: 2\n"
            ]
          },
          "metadata": {}
        }
      ]
    },
    {
      "cell_type": "code",
      "source": [
        "finmodel <-step(m)"
      ],
      "metadata": {
        "colab": {
          "base_uri": "https://localhost:8080/"
        },
        "id": "q_BnalPmYG4L",
        "outputId": "45b4a8ed-e2da-4338-9d9d-708c172022e0"
      },
      "execution_count": null,
      "outputs": [
        {
          "output_type": "stream",
          "name": "stdout",
          "text": [
            "Start:  AIC=119.51\n",
            "train$output ~ x1 + x3 + x5 + x7 + x8 + x10 + x12 + x13 + x15\n",
            "\n",
            "       Df Deviance    AIC\n",
            "<none>      19.067 119.51\n",
            "- x5    1   19.301 119.94\n",
            "- x1    1   19.455 121.53\n",
            "- x12   1   19.808 125.13\n",
            "- x7    1   20.785 134.76\n",
            "- x3    1   21.103 137.80\n",
            "- x15   1   22.693 152.32\n",
            "- x13   1   23.439 158.79\n",
            "- x10   1   23.899 162.68\n",
            "- x8    1   29.745 206.44\n"
          ]
        }
      ]
    },
    {
      "cell_type": "code",
      "source": [
        "summary(finmodel)"
      ],
      "metadata": {
        "colab": {
          "base_uri": "https://localhost:8080/",
          "height": 506
        },
        "id": "iZ7U9MkKqQUQ",
        "outputId": "a92c4620-1fb2-45b9-a675-2878846a50be"
      },
      "execution_count": null,
      "outputs": [
        {
          "output_type": "display_data",
          "data": {
            "text/plain": [
              "\n",
              "Call:\n",
              "glm(formula = train$output ~ x1 + x3 + x5 + x7 + x8 + x10 + x12 + \n",
              "    x13 + x15, family = gaussian(), data = train)\n",
              "\n",
              "Coefficients:\n",
              "            Estimate Std. Error t value Pr(>|t|)    \n",
              "(Intercept) 0.465376   0.022576  20.614  < 2e-16 ***\n",
              "x1          0.044923   0.022856   1.965   0.0508 .  \n",
              "x3          0.087774   0.019488   4.504 1.16e-05 ***\n",
              "x5          0.023984   0.015726   1.525   0.1289    \n",
              "x7          0.049682   0.012010   4.137 5.29e-05 ***\n",
              "x8          0.128648   0.012472  10.315  < 2e-16 ***\n",
              "x10         0.071308   0.010276   6.939 6.05e-11 ***\n",
              "x12         0.023819   0.008767   2.717   0.0072 ** \n",
              "x13         0.060443   0.009158   6.600 4.00e-10 ***\n",
              "x15         0.047466   0.007897   6.011 9.26e-09 ***\n",
              "---\n",
              "Signif. codes:  0 ‘***’ 0.001 ‘**’ 0.01 ‘*’ 0.05 ‘.’ 0.1 ‘ ’ 1\n",
              "\n",
              "(Dispersion parameter for gaussian family taken to be 0.1003551)\n",
              "\n",
              "    Null deviance: 49.595  on 199  degrees of freedom\n",
              "Residual deviance: 19.067  on 190  degrees of freedom\n",
              "AIC: 119.51\n",
              "\n",
              "Number of Fisher Scoring iterations: 2\n"
            ]
          },
          "metadata": {}
        }
      ]
    },
    {
      "cell_type": "code",
      "source": [
        "finmodel <- glm(formula = train$output ~ x3 + x7 + x8 + x10 + x12 +\n",
        "    x13 + x15, family = gaussian(), data = train)\n",
        "summary(finmodel)"
      ],
      "metadata": {
        "colab": {
          "base_uri": "https://localhost:8080/",
          "height": 470
        },
        "id": "alCf_0SzqWNC",
        "outputId": "e2452a5b-aee3-4265-f646-9e7b3b904421"
      },
      "execution_count": null,
      "outputs": [
        {
          "output_type": "display_data",
          "data": {
            "text/plain": [
              "\n",
              "Call:\n",
              "glm(formula = train$output ~ x3 + x7 + x8 + x10 + x12 + x13 + \n",
              "    x15, family = gaussian(), data = train)\n",
              "\n",
              "Coefficients:\n",
              "            Estimate Std. Error t value Pr(>|t|)    \n",
              "(Intercept) 0.467691   0.022787  20.525  < 2e-16 ***\n",
              "x3          0.084853   0.019661   4.316 2.54e-05 ***\n",
              "x7          0.048942   0.012127   4.036 7.86e-05 ***\n",
              "x8          0.127285   0.012544  10.147  < 2e-16 ***\n",
              "x10         0.069533   0.010350   6.718 2.04e-10 ***\n",
              "x12         0.022714   0.008849   2.567    0.011 *  \n",
              "x13         0.061094   0.009252   6.603 3.84e-10 ***\n",
              "x15         0.049187   0.007917   6.213 3.16e-09 ***\n",
              "---\n",
              "Signif. codes:  0 ‘***’ 0.001 ‘**’ 0.01 ‘*’ 0.05 ‘.’ 0.1 ‘ ’ 1\n",
              "\n",
              "(Dispersion parameter for gaussian family taken to be 0.1025214)\n",
              "\n",
              "    Null deviance: 49.595  on 199  degrees of freedom\n",
              "Residual deviance: 19.684  on 192  degrees of freedom\n",
              "AIC: 121.87\n",
              "\n",
              "Number of Fisher Scoring iterations: 2\n"
            ]
          },
          "metadata": {}
        }
      ]
    },
    {
      "cell_type": "code",
      "source": [
        "pred <- predict(finmodel, test)"
      ],
      "metadata": {
        "id": "L0u7EyIYye2i"
      },
      "execution_count": null,
      "outputs": []
    },
    {
      "cell_type": "code",
      "source": [
        "#for returning classes\n",
        "p = 0.926542998286118\n",
        "pred <- ifelse(pred > p,1,0)"
      ],
      "metadata": {
        "id": "BZjml8oD0kky"
      },
      "execution_count": null,
      "outputs": []
    },
    {
      "cell_type": "code",
      "source": [
        "write.csv(pred_ans$x, file = \"predictions_fin.csv\", row.names = FALSE)\n"
      ],
      "metadata": {
        "id": "cV3yaTHl0ygL"
      },
      "execution_count": null,
      "outputs": []
    },
    {
      "cell_type": "code",
      "source": [
        "pred <- data.frame(pred)"
      ],
      "metadata": {
        "id": "GHdBZkXI2JuQ"
      },
      "execution_count": null,
      "outputs": []
    },
    {
      "cell_type": "code",
      "source": [
        "perf <- performance(prediction(predict(finmodel, train), train$output),\"tpr\",\"fpr\")\n",
        "plot(perf)"
      ],
      "metadata": {
        "colab": {
          "base_uri": "https://localhost:8080/",
          "height": 437
        },
        "id": "6OKx0J_n4AHo",
        "outputId": "be7fb0ff-98b0-43d0-eeaf-b9d1d6f77c62"
      },
      "execution_count": null,
      "outputs": [
        {
          "output_type": "display_data",
          "data": {
            "text/plain": [
              "plot without title"
            ],
            "image/png": "[encoded data removed]"
          },
          "metadata": {
            "image/png": {
              "width": 420,
              "height": 420
            }
          }
        }
      ]
    },
    {
      "cell_type": "code",
      "source": [
        "(bound <- max(attr(perf,'y.values')[[1]]-attr(perf,'x.values')[[1]]))"
      ],
      "metadata": {
        "colab": {
          "base_uri": "https://localhost:8080/",
          "height": 34
        },
        "id": "Fdk2wWkO5WgF",
        "outputId": "89d0c938-7cfb-493d-bbbe-17d03e54d955"
      },
      "execution_count": null,
      "outputs": [
        {
          "output_type": "display_data",
          "data": {
            "text/html": [
              "0.906542998286118"
            ],
            "text/markdown": "0.906542998286118",
            "text/latex": "0.906542998286118",
            "text/plain": [
              "[1] 0.906543"
            ]
          },
          "metadata": {}
        }
      ]
    },
    {
      "cell_type": "code",
      "source": [
        "from sklearn.linear_model import LogisticRegression\n",
        "import pandas as pd\n",
        "\n",
        "train = pd.read_csv('var_16_train.csv')\n",
        "test = pd.read_csv('var_16_test.csv')\n",
        "\n",
        "clf = LogisticRegression()\n",
        "\n",
        "clf.fit(train.drop('output', axis=1), train.output)\n",
        "pred = clf.predict(test)\n",
        "pd.Series(pred, name='x').to_csv('predictions.csv', index = False)"
      ],
      "metadata": {
        "id": "CVUXvOQfC0oz"
      },
      "execution_count": 1,
      "outputs": []
    }
  ]
}